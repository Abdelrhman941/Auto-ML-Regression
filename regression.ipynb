{
 "cells": [
  {
   "cell_type": "code",
   "execution_count": null,
   "metadata": {},
   "outputs": [],
   "source": [
    "import pandas as pd                                                                                      # type: ignore\n",
    "import matplotlib.pyplot as plt                                                                          # type: ignore\n",
    "import seaborn as sns                                                                                    # type: ignore\n",
    "import scipy.stats as stats                                                                              # type: ignore\n",
    "import plotly.express as px                                                                              # type: ignore\n",
    "import plotly.graph_objects as go                                                                        # type: ignore\n",
    "from plotly.subplots import make_subplots                                                                # type: ignore\n",
    "from sklearn.impute import SimpleImputer                                                                 # type: ignore\n",
    "from sklearn.model_selection import train_test_split                                                     # type: ignore\n",
    "from sklearn.preprocessing import StandardScaler                                                         # type: ignore\n",
    "from sklearn.linear_model import LinearRegression                                                        # type: ignore\n",
    "from sklearn.metrics import mean_absolute_error, mean_squared_error, median_absolute_error,r2_score      # type: ignore "
   ]
  },
  {
   "cell_type": "code",
   "execution_count": 2,
   "metadata": {},
   "outputs": [],
   "source": [
    "class Regression_Model:\n",
    "    def __init__(self, dataset_name, test_size=0.2, random_state=42, Scaling_Thr=100, corrlate_Thr=0.1, top_corrlate=3, imputation_strategy=\"mean\", MAX_FEATURES_FOR_PAIRPLOT = 6):\n",
    "        try:\n",
    "            self.dataset = pd.read_csv(dataset_name)\n",
    "            if self.dataset.empty:\n",
    "                raise ValueError(\"Dataset is empty after loading.\")\n",
    "        except FileNotFoundError:\n",
    "            print(f\"❌ Error: The file '{dataset_name}' was not found.\")\n",
    "            return\n",
    "        except pd.errors.EmptyDataError:\n",
    "            print(\"❌ Error: The dataset file is empty.\")\n",
    "            return\n",
    "        except Exception as e:\n",
    "            print(f\"❌ Unexpected error loading dataset: {e}\")\n",
    "            return\n",
    "        \n",
    "        self.target  = self.dataset.columns[-1]\n",
    "        self.model   = LinearRegression()\n",
    "        self.imputer = SimpleImputer(strategy=imputation_strategy)\n",
    "        self.scaler  = StandardScaler()\n",
    "        self.X_train = self.X_test = self.y_train = self.y_test = None\n",
    "        self.X = self.dataset.drop(self.target, axis=1)\n",
    "        self.y = self.dataset[self.target]\n",
    "        self.test_size    = test_size\n",
    "        self.random_state = random_state\n",
    "        self.Scaling_Thr  = Scaling_Thr\n",
    "        self.corrlate_Thr = corrlate_Thr\n",
    "        self.top_corrlate = top_corrlate\n",
    "        self.Max_Features = MAX_FEATURES_FOR_PAIRPLOT\n",
    "        plt.style.use('ggplot')\n",
    "        sns.set_theme(style=\"whitegrid\")\n",
    "        print(f\"✅ Dataset Load successfully !! shape : {self.dataset.shape}\")\n",
    "        \n",
    "        if not self.suitable_reg_dataset(self.dataset):\n",
    "            print(\"❌ This dataset is not suitable for regression. You should use classification instead.\")\n",
    "            self.dataset = None\n",
    "            return\n",
    "###################################################################################################\n",
    "    def suitable_reg_dataset(self,data):\n",
    "        \"\"\" ---------- check the dataset if it is suitable for regression or not ----------\n",
    "            - checks whether the target column is present in the data or not.\n",
    "            - check the target column type if it is numerical or not        to determine if it is a regression problem or not.\n",
    "            - Checking Unique Values in Target Column                       to determine if it is a Regression Problem or not\n",
    "            - Checking for Missing Values                                   to ensure that the data is clean\n",
    "            - Checking Column Data Types                                    to ensure that all columns are numerical \n",
    "            - Checking Numerical Feature Scaling                            to ensure that all features are on the same scale\n",
    "            - Checking for Linear Relationship between Features and Target  to ensure that the data is suitable for Linear Regression\n",
    "            - Splitting Data into Train/Test Sets \"\"\"\n",
    "        if self.target not in self.dataset.columns:\n",
    "            print(f\"❌ Target column '{self.target}' not found in the dataset\")\n",
    "            return False\n",
    "        #-----------------------------------------------------\n",
    "        \n",
    "        print(\"\\n📊 --------------------- Step 1: Checking Target Column Type ---------------------\")\n",
    "        if data[self.target].dtype not in ['int64', 'float64']:\n",
    "            print(\"    ⚠️ Target variable is not numerical. The dataset might not be suitable for regression.\")\n",
    "            return False\n",
    "        print(\"✅ Target variable is numerical.\")\n",
    "        #-----------------------------------------------------\n",
    "        \n",
    "        print(\"\\n📊 --------------------- Step 2: Checking Unique Values in Target Column ---------------------\")\n",
    "        unique_values = data[self.target].nunique()\n",
    "        if unique_values <= 10:\n",
    "            print(f\"    ⚠️ Target variable has only {unique_values} unique values. This might indicate a classification problem.\")\n",
    "            return False\n",
    "        print(f\"✅ Target variable has {unique_values} unique values.\")\n",
    "        #-----------------------------------------------------\n",
    "        \n",
    "        print(\"\\n📊 --------------------- Step 3: Checking Missing Values ---------------------\")\n",
    "        missing_percent = self.dataset.isnull().sum() / len(self.dataset) * 100\n",
    "        if missing_percent[self.target] > 20:\n",
    "            print(f\"    ⚠️ Target column has {missing_percent[self.target]:.1f}% missing values. Consider handling missing data.\")\n",
    "        print(\"✅ Missing values check completed.\")\n",
    "        \n",
    "        missing_values = self.dataset.isnull().sum().sum()\n",
    "        if missing_values > 0:\n",
    "            print(f\"    ⚠️ Warning: Found {missing_values} missing values in the dataset!\")\n",
    "            imputer = self.imputer\n",
    "            self.dataset = pd.DataFrame(imputer.fit_transform(self.dataset), columns=self.dataset.columns)\n",
    "            missing_after = self.dataset.isnull().sum().sum()\n",
    "            if missing_after == 0:\n",
    "                print(f\"✅ Missing values handled successfully! No missing values left.\")\n",
    "            else:\n",
    "                print(f\"    ⚠️ Some missing values still exist ({missing_after}). Consider different strategies.\")\n",
    "                return False\n",
    "        #-----------------------------------------------------\n",
    "        \n",
    "        print(\"\\n📊 --------------------- Step 4: Checking Column Data Types ---------------------\")\n",
    "        categorical_columns = self.dataset.select_dtypes(include=['object']).columns.tolist()\n",
    "        if categorical_columns:\n",
    "            print(f\"    ⚠️ Found categorical columns: {categorical_columns}\")\n",
    "            MAX_CATEGORIES = 15\n",
    "            for col in categorical_columns:\n",
    "                if self.dataset[col].nunique() > MAX_CATEGORIES:\n",
    "                    print(f\"    ⚠️ Column '{col}' has too many categories ({self.dataset[col].nunique()}). Consider encoding differently.\")\n",
    "            \n",
    "            self.dataset = pd.get_dummies(self.dataset, columns=categorical_columns, drop_first=True)   # [drop_first=True] to avoid multi-collinearity\n",
    "            print(f\"✅ Categorical columns encoded !! New shape: {self.dataset.shape}\") \n",
    "        else:\n",
    "            print(\"✅ No categorical columns found. Data is already numerical.\")\n",
    "        #-----------------------------------------------------\n",
    "        \n",
    "        print(\"\\n📊 --------------------- Step 5: Checking Numerical Feature Scaling ---------------------\")\n",
    "        numerical_columns = self.dataset.select_dtypes(include=['int64', 'float64']).columns.tolist()\n",
    "        high_variance_columns = []\n",
    "        Scaling_Thr = self.Scaling_Thr\n",
    "        \n",
    "        for col in numerical_columns:\n",
    "            min_val, max_val = self.dataset[col].min(), self.dataset[col].max()\n",
    "            range_val = max_val - min_val\n",
    "            if range_val > Scaling_Thr:\n",
    "                high_variance_columns.append(col)\n",
    "        \n",
    "        if high_variance_columns:\n",
    "            print(f\"    ⚠️ High variance detected in columns: {high_variance_columns}\")\n",
    "            scaler = self.scaler\n",
    "            self.dataset[high_variance_columns] = scaler.fit_transform(self.dataset[high_variance_columns])\n",
    "            print(f\"✅ Scaling applied to columns: {high_variance_columns}\")\n",
    "        else:\n",
    "            print(\"✅ No scaling needed. Data distribution is balanced.\")\n",
    "        #-----------------------------------------------------\n",
    "        \n",
    "        print(\"\\n📊 --------------------- Step 5.1: Checking for Linear Relationship between Features and Target ---------------------\")\n",
    "        if self.dataset.empty:\n",
    "            print(\"❌ Dataset is empty after processing. Check your preprocessing steps.\")\n",
    "            return False\n",
    "        elif self.target not in self.dataset.columns:\n",
    "            print(f\"❌ Target column '{self.target}' not found after preprocessing.\")\n",
    "            return False\n",
    "        correlations      = self.dataset.corr()[self.target].drop(self.target)\n",
    "        correlation_thr   = self.corrlate_Thr\n",
    "        selected_features = correlations[abs(correlations) > correlation_thr].index.tolist()    # contains the features that have a linear relationship with the target\n",
    "        \n",
    "        if len(selected_features) == 0:\n",
    "            print(\"    ⚠️ No strongly correlated features found! Consider feature engineering.\")\n",
    "        else:\n",
    "            print(f\"✅ Keeping {len(selected_features)} features from {len(self.dataset.columns)-1} with correlation > {correlation_thr}:\\n{selected_features}\")\n",
    "        \n",
    "        if selected_features:\n",
    "            self.dataset = self.dataset[selected_features + [self.target]]\n",
    "            print(f\"✅ Features filtered !! New dataset shape: {self.dataset.shape}\")\n",
    "        else:\n",
    "            print(\"⚠️ No features met the correlation threshold. Keeping all original features.\")\n",
    "        #-----------------------------------------------------\n",
    "        \n",
    "        print(\"\\n📊 --------------------- Step 6: Checking Linear Relationship with Target ---------------------\")\n",
    "        if self.dataset.empty:\n",
    "            print(\"❌ Dataset is empty after processing. Check your preprocessing steps.\")\n",
    "            return False\n",
    "        elif self.target not in self.dataset.columns:\n",
    "            print(f\"❌ Target column '{self.target}' not found after preprocessing.\")\n",
    "            return False\n",
    "        correlations = self.dataset.corr()[self.target].drop(self.target).sort_values(ascending=False)\n",
    "        print(f\"✅ Correlation with Target:\\n{correlations}\")\n",
    "        \n",
    "        top_features = correlations[abs(correlations) > correlation_thr].index.tolist()  \n",
    "        if top_features:\n",
    "            plt.figure(figsize=(12, 6))\n",
    "            num_features_to_plot = min(len(top_features), self.top_corrlate)\n",
    "            for feature in top_features[:num_features_to_plot]:  \n",
    "                sns.regplot(x=self.dataset[feature], y=self.dataset[self.target], line_kws={\"color\": \"red\"}, scatter_kws={'alpha':0.5}, x_jitter=0.1)\n",
    "                plt.title(f\"Relationship between {feature} and {self.target}\")\n",
    "                plt.show()\n",
    "        else:\n",
    "            print(\"    ⚠️ No strong linear relationships detected.\")\n",
    "        #-----------------------------------------------------\n",
    "        \n",
    "        print(\"📊 --------------------- Step 7: Splitting Data into Train/Test Sets ---------------------\")\n",
    "        X = self.dataset.drop(self.target, axis=1)\n",
    "        y = self.dataset[self.target]\n",
    "        if self.dataset.shape[1] <= 1:\n",
    "            print(\"❌ No valid features left after preprocessing! Check correlation threshold or dataset quality.\")\n",
    "            return False\n",
    "        self.X_train, self.X_test, self.y_train, self.y_test = train_test_split(X, y, test_size=self.test_size, random_state=self.random_state, shuffle=True)\n",
    "        print(f\"✅ Data split completed!\")\n",
    "        print(f\"   - Training set size: {self.X_train.shape[0]} samples\")\n",
    "        print(f\"   - Testing  set size: {self.X_test.shape[0]} samples\")\n",
    "        \n",
    "        return True\n",
    "###################################################################################################\n",
    "    def train(self):\n",
    "        if self.dataset is None:\n",
    "            print(\"❌ Cannot train the model. The dataset is not suitable for regression.\")\n",
    "            return\n",
    "        print(\"🚀 --------------------- Training Linear Regression Model ---------------------\")\n",
    "        self.model.fit(self.X_train, self.y_train)\n",
    "        train_score = self.model.score(self.X_train, self.y_train) * 100\n",
    "        test_score  = self.model.score(self.X_test, self.y_test) * 100\n",
    "        \n",
    "        print(\"✅ Model Training Completed!\")\n",
    "        print(f\"   - Train Score: {train_score:.2f} %\")\n",
    "        print(f\"   - Test  Score: {test_score:.2f} %\")\n",
    "        print(f\"   - Coefficients:\\n{self.model.coef_}\")\n",
    "        print(f\"   - Intercept: {round(self.model.intercept_, 2)}\")\n",
    "###################################################################################################\n",
    "    def evaluate(self):\n",
    "        if self.dataset is None:\n",
    "            print(\"❌ Cannot train the model. The dataset is not suitable for regression.\")\n",
    "            return\n",
    "        print(\"\\n🚀 --------------------- Evaluating Model Performance ---------------------\")\n",
    "        y_pred = self.model.predict(self.X_test)\n",
    "        \n",
    "        mae   = mean_absolute_error(self.y_test, y_pred)\n",
    "        mse   = mean_squared_error(self.y_test, y_pred)\n",
    "        medae = median_absolute_error(self.y_test, y_pred)\n",
    "        r2    = r2_score(self.y_test, y_pred)\n",
    "        \n",
    "        print(\"✅ Model Evaluation Completed!\")\n",
    "        print(f\"   - Mean   Absolute Error (MAE)   : {mae:.2f}\")\n",
    "        print(f\"   - Mean   Squared  Error (MSE)   : {mse:.2f}\")\n",
    "        print(f\"   - Median Absolute Error (MedAE) : {medae:.2f}\")\n",
    "        print(f\"   - R2 Score: {r2:.2f}\")\n",
    "###################################################################################################\n",
    "    def plot(self):\n",
    "        if self.dataset is None:\n",
    "            print(\"❌ Cannot train the model. The dataset is not suitable for regression.\")\n",
    "            return\n",
    "        print(\"📊 Generating Interactive Plots...\")\n",
    "        dataset_copy = self.dataset.copy()\n",
    "        \n",
    "        # 1️⃣ Pair Plot \"relations between features\"\n",
    "        selected_cols = dataset_copy.columns[:self.Max_Features]\n",
    "        fig = px.scatter_matrix(dataset_copy, dimensions=selected_cols, color=self.target)\n",
    "        fig = px.scatter_matrix(dataset_copy, dimensions=dataset_copy.columns[:-1], color=self.target)\n",
    "        fig.update_layout(title=\"Pair Plot - Relationship Between Features\")\n",
    "        fig.show()\n",
    "        \n",
    "        # 2️⃣ Histogram , Box Plot \n",
    "        fig = make_subplots(rows=1, cols=2, subplot_titles=(\"Feature Distributions\", \"Box Plot - Outliers\"),\n",
    "                            column_widths=[0.6, 0.4])\n",
    "        for col in dataset_copy.columns:\n",
    "            fig.add_trace(go.Histogram(x=dataset_copy[col], name=col, opacity=0.7), row=1, col=1)\n",
    "            fig.add_trace(go.Box(y=dataset_copy[col], name=col, boxpoints='outliers'), row=1, col=2)\n",
    "        fig.update_layout(title=\"Feature Distribution & Outlier Analysis\", showlegend=False)\n",
    "        fig.show()\n",
    "        \n",
    "        # 3️⃣ Heatmap \n",
    "        corr_matrix = dataset_copy.corr()\n",
    "        fig = go.Figure(data=go.Heatmap(z=corr_matrix.values, x=corr_matrix.columns, y=corr_matrix.columns, \n",
    "                                colorscale='rdylbu', text=corr_matrix.values, texttemplate=\"%{text:.2f}\"))\n",
    "        fig.update_layout(title=\"Correlation Heatmap\")\n",
    "        fig.show()\n",
    "        \n",
    "        # 4️⃣ Residual Plot\n",
    "        y_pred = self.model.predict(self.X_test)\n",
    "        residuals = self.y_test - y_pred\n",
    "        fig = px.scatter(x=y_pred, y=residuals, title=\"Residual Plot\", labels={\"x\": \"Predicted Values\", \"y\": \"Residuals\"})\n",
    "        fig.add_hline(y=0, line_dash=\"dash\", line_color=\"red\") \n",
    "        fig.show()\n",
    "        \n",
    "        # 5️⃣ Q-Q Plot\n",
    "        qq = stats.probplot(residuals, dist=\"norm\")\n",
    "        fig = px.scatter(x=qq[0][0], y=qq[0][1], title=\"Q-Q Plot of Residuals\",\n",
    "                        labels={\"x\": \"Theoretical Quantiles\", \"y\": \"Sample Quantiles\"})\n",
    "        fig.add_trace(go.Scatter(x=qq[0][0], y=qq[0][0], mode='lines', line=dict(color='red', dash='dash')))\n",
    "        fig.show()\n",
    "        \n",
    "        # 6️⃣ Actual vs Predicted Plot\n",
    "        fig = px.scatter(x=self.y_test, y=y_pred, title=\"Actual vs Predicted Values\",\n",
    "                        labels={\"x\": \"Actual Values\", \"y\": \"Predicted Values\"})\n",
    "        fig.add_trace(go.Scatter(x=self.y_test, y=self.y_test, mode='lines', line=dict(color='red', dash='dash')))\n",
    "        fig.show()\n",
    "        \n",
    "        # 7️⃣ Feature Importance (Linear Regression Coefficients)\n",
    "        feature_importance = pd.Series(abs(self.model.coef_), index=self.X_train.columns).sort_values().round(3)\n",
    "        fig = px.bar(x=feature_importance.values, y=feature_importance.index, orientation='h',title=\"Feature Importance (Linear Regression Coefficients)\", text_auto=True)\n",
    "        fig.show()\n",
    "        \n",
    "        print(\"✅ All plots generated successfully!\")"
   ]
  },
  {
   "cell_type": "code",
   "execution_count": null,
   "metadata": {},
   "outputs": [],
   "source": [
    "dataset = \"./datasets/stag.csv\""
   ]
  },
  {
   "cell_type": "code",
   "execution_count": 4,
   "metadata": {},
   "outputs": [
    {
     "name": "stdout",
     "output_type": "stream",
     "text": [
      "✅ Dataset Load successfully !! shape : (105, 5)\n",
      "\n",
      "📊 --------------------- Step 1: Checking Target Column Type ---------------------\n",
      "✅ Target variable is numerical.\n",
      "\n",
      "📊 --------------------- Step 2: Checking Unique Values in Target Column ---------------------\n",
      "✅ Target variable has 59 unique values.\n",
      "\n",
      "📊 --------------------- Step 3: Checking Missing Values ---------------------\n",
      "✅ Missing values check completed.\n",
      "\n",
      "📊 --------------------- Step 4: Checking Column Data Types ---------------------\n",
      "✅ No categorical columns found. Data is already numerical.\n",
      "\n",
      "📊 --------------------- Step 5: Checking Numerical Feature Scaling ---------------------\n",
      "    ⚠️ High variance detected in columns: ['math_SAT', 'verb_SAT']\n",
      "✅ Scaling applied to columns: ['math_SAT', 'verb_SAT']\n",
      "\n",
      "📊 --------------------- Step 5.1: Checking for Linear Relationship between Features and Target ---------------------\n",
      "✅ Keeping 4 features from 4 with correlation > 0.1:\n",
      "['high_GPA', 'math_SAT', 'verb_SAT', 'comp_GPA']\n",
      "✅ Features filtered !! New dataset shape: (105, 5)\n",
      "\n",
      "📊 --------------------- Step 6: Checking Linear Relationship with Target ---------------------\n",
      "✅ Correlation with Target:\n",
      "comp_GPA    0.939046\n",
      "high_GPA    0.779563\n",
      "math_SAT    0.662784\n",
      "verb_SAT    0.650301\n",
      "Name: univ_GPA, dtype: float64\n"
     ]
    },
    {
     "data": {
      "image/png": "[encoded data removed]",
      "text/plain": [
       "<Figure size 1200x600 with 1 Axes>"
      ]
     },
     "metadata": {},
     "output_type": "display_data"
    },
    {
     "data": {
      "image/png": "[encoded data removed]",
      "text/plain": [
       "<Figure size 640x480 with 1 Axes>"
      ]
     },
     "metadata": {},
     "output_type": "display_data"
    },
    {
     "data": {
      "image/png": "[encoded data removed]",
      "text/plain": [
       "<Figure size 640x480 with 1 Axes>"
      ]
     },
     "metadata": {},
     "output_type": "display_data"
    },
    {
     "name": "stdout",
     "output_type": "stream",
     "text": [
      "📊 --------------------- Step 7: Splitting Data into Train/Test Sets ---------------------\n",
      "✅ Data split completed!\n",
      "   - Training set size: 84 samples\n",
      "   - Testing  set size: 21 samples\n"
     ]
    }
   ],
   "source": [
    "model = Regression_Model(dataset)"
   ]
  },
  {
   "cell_type": "code",
   "execution_count": 5,
   "metadata": {},
   "outputs": [
    {
     "name": "stdout",
     "output_type": "stream",
     "text": [
      "🚀 --------------------- Training Linear Regression Model ---------------------\n",
      "✅ Model Training Completed!\n",
      "   - Train Score: 87.94 %\n",
      "   - Test  Score: 90.67 %\n",
      "   - Coefficients:\n",
      "[ 0.10597753 -0.03549358  0.0514796   0.69884703]\n",
      "   - Intercept: 0.67\n",
      "\n",
      "🚀 --------------------- Evaluating Model Performance ---------------------\n",
      "✅ Model Evaluation Completed!\n",
      "   - Mean   Absolute Error (MAE)   : 0.13\n",
      "   - Mean   Squared  Error (MSE)   : 0.02\n",
      "   - Median Absolute Error (MedAE) : 0.12\n",
      "   - R2 Score: 0.91\n"
     ]
    }
   ],
   "source": [
    "model.train()\n",
    "model.evaluate()"
   ]
  },
  {
   "cell_type": "code",
   "execution_count": 6,
   "metadata": {},
   "outputs": [
    {
     "name": "stdout",
     "output_type": "stream",
     "text": [
      "📊 Generating Interactive Plots...\n"
     ]
    },
    {
     "data": {
      "application/vnd.plotly.v1+json": {
       "config": {
        "plotlyServerURL": "https://plot.ly"
       },
       "data": [
        {
         "dimensions": [
          {
           "axis": {
            "matches": true
           },
           "label": "high_GPA",
           "values": [
            3.45,
            2.78,
            2.52,
            3.67,
            3.24,
            2.1,
            2.82,
            2.36,
            2.42,
            3.51,
            3.48,
            2.14,
            2.59,
            3.46,
            3.51,
            3.68,
            3.91,
            3.72,
            2.15,
            2.48,
            3.09,
            2.71,
            2.46,
            3.32,
            3.61,
            3.82,
            2.64,
            2.19,
            3.34,
            3.48,
            3.56,
            3.81,
            3.92,
            4,
            2.52,
            2.71,
            3.15,
            3.22,
            2.29,
            2.03,
            3.14,
            3.52,
            2.91,
            2.83,
            2.65,
            2.41,
            2.54,
            2.66,
            3.21,
            3.34,
            3.68,
            2.84,
            2.74,
            2.71,
            2.24,
            2.48,
            3.14,
            2.83,
            3.44,
            2.89,
            2.67,
            3.24,
            3.29,
            3.87,
            3.94,
            3.42,
            3.52,
            2.24,
            3.29,
            3.41,
            3.56,
            3.61,
            3.28,
            3.21,
            3.48,
            3.62,
            2.92,
            2.81,
            3.11,
            3.28,
            2.7,
            2.62,
            3.72,
            3.42,
            3.51,
            3.28,
            3.42,
            3.9,
            3.12,
            2.83,
            2.09,
            3.17,
            3.28,
            3.02,
            3.42,
            3.06,
            2.76,
            3.19,
            2.23,
            2.48,
            3.76,
            3.49,
            3.07,
            2.19,
            3.46
           ]
          },
          {
           "axis": {
            "matches": true
           },
           "label": "math_SAT",
           "values": [
            0.37238092889936375,
            -1.2162900990293295,
            -0.7490339143444197,
            1.1573713191700121,
            -0.5808216878578522,
            -1.141529109479744,
            -0.9359363882183837,
            -1.197599851641933,
            -1.328431583353708,
            -0.11356550317294241,
            1.138681071782616,
            -1.0293876251553655,
            -0.3565387192090955,
            -0.07618500839814962,
            0.35369068151196736,
            1.1199908243952195,
            1.4937957721431472,
            1.6620079986297147,
            -1.104148614704951,
            -1.234980346416726,
            -0.5995119352452486,
            -0.44998995614607745,
            -0.3004679770469063,
            -0.07618500839814962,
            1.437725029980958,
            1.7741494829540931,
            -0.8051046565066089,
            -1.141529109479744,
            1.1199908243952195,
            1.7554592355666967,
            1.4564152773683545,
            1.2695128034943906,
            1.6993884934045076,
            1.232132308719598,
            -1.291051088578915,
            -1.104148614704951,
            0.8396371135842736,
            1.2695128034943906,
            -0.9359363882183837,
            -1.0293876251553655,
            -0.3004679770469063,
            0.5219029079985349,
            -0.3565387192090955,
            -1.1789096042545368,
            -0.3565387192090955,
            -0.9172461408309872,
            -1.104148614704951,
            -0.3004679770469063,
            -0.07618500839814962,
            0.44714191844894935,
            0.5219029079985349,
            -0.9733168829931764,
            -0.7490339143444197,
            -1.291051088578915,
            -1.0293876251553655,
            -0.9172461408309872,
            -0.33784847182169914,
            -0.5995119352452486,
            0.35369068151196736,
            -0.2817777296595099,
            -0.9172461408309872,
            0.37238092889936375,
            -0.2817777296595099,
            1.6059372564675256,
            1.2695128034943906,
            0.8209468661968772,
            0.6153541449355169,
            -1.291051088578915,
            1.288203050881787,
            1.138681071782616,
            1.7554592355666967,
            1.6620079986297147,
            0.335000434124571,
            0.9704688452960483,
            1.288203050881787,
            1.138681071782616,
            -1.104148614704951,
            -1.291051088578915,
            1.1573713191700121,
            0.8957078557464627,
            -0.9733168829931764,
            -0.7677241617318161,
            -0.038804513623356844,
            0.5219029079985349,
            0.9330883505212555,
            0.5219029079985349,
            0.9143981031338592,
            -0.5995119352452486,
            -0.7677241617318161,
            -0.26308748227211354,
            -1.291051088578915,
            -0.20701674010992438,
            0.09202721808841789,
            -1.048077872542762,
            -0.07618500839814962,
            1.2695128034943906,
            -1.104148614704951,
            0.5032126606111386,
            -1.3471218307411044,
            -1.0293876251553655,
            -0.33784847182169914,
            1.288203050881787,
            1.0639200822330304,
            -0.11356550317294241,
            -2.001280489299978
           ]
          },
          {
           "axis": {
            "matches": true
           },
           "label": "verb_SAT",
           "values": [
            -0.1532003073270151,
            -1.3819944390124457,
            -1.525619727131522,
            0.05425844217831735,
            -0.9670769400017808,
            -1.7969119380231107,
            -0.8074932865361405,
            -0.9989936706949089,
            -0.2489504994063993,
            -0.12128357663388702,
            0.8043016134668269,
            -0.10532521128732299,
            -0.2649088647529633,
            0.4053424798027261,
            0.32555065306990594,
            0.6925930560408787,
            1.362844400596568,
            0.852176709506519,
            -1.55753645782465,
            -0.7915349211895765,
            -0.23299213405983527,
            -0.584076171684244,
            0.32555065306990594,
            -0.6479096330705001,
            1.9533039184194374,
            2.1288459372316417,
            -0.9670769400017808,
            -1.4617862657452658,
            0.7883432481202629,
            2.0011790144591295,
            1.8415953609934892,
            1.362844400596568,
            1.713928438220977,
            1.1873023817843638,
            -1.4617862657452658,
            -0.8872851132689606,
            0.08617517287144542,
            1.0117603629721594,
            -0.12128357663388702,
            -1.3022026122796255,
            0.4053424798027261,
            1.346886035250004,
            -0.2489504994063993,
            -0.9032434786155247,
            0.2936339223767779,
            -0.8074932865361405,
            -1.573494823171214,
            -1.1266605934674212,
            -0.40853415287203965,
            0.15000863425770156,
            1.346886035250004,
            -0.8872851132689606,
            -1.4139111697055737,
            -0.9670769400017808,
            -1.2702858815864975,
            0.05425844217831735,
            0.32555065306990594,
            -0.23299213405983527,
            0.15000863425770156,
            -0.40853415287203965,
            -0.9670769400017808,
            0.13405026891113753,
            0.8043016134668269,
            1.4266778619828242,
            0.7404681520805708,
            -0.2489504994063993,
            0.16596699960426559,
            -0.9032434786155247,
            -0.5681178063376799,
            1.1713440164377997,
            0.8043016134668269,
            1.745845168914105,
            0.15000863425770156,
            0.5330094025752383,
            1.5862615154484647,
            0.16596699960426559,
            -0.12128357663388702,
            -1.4298695350521378,
            1.5224280540622084,
            0.16596699960426559,
            -1.525619727131522,
            -0.12128357663388702,
            -0.1532003073270151,
            0.6925930560408787,
            1.314969304556876,
            0.6606763253477507,
            0.13405026891113753,
            -0.18511703802014315,
            0.2138420956439577,
            -0.6957847291101923,
            -1.8926621301024948,
            -0.13724194198045106,
            -0.2968255954460914,
            0.05425844217831735,
            0.38938411445616206,
            1.346886035250004,
            -0.7915349211895765,
            1.362844400596568,
            -0.7117430944567563,
            -0.9192018439620887,
            -0.13724194198045106,
            1.346886035250004,
            1.4905113233690803,
            -1.525619727131522,
            -1.1266605934674212
           ]
          },
          {
           "axis": {
            "matches": true
           },
           "label": "comp_GPA",
           "values": [
            3.76,
            2.87,
            2.54,
            3.83,
            3.29,
            2.64,
            2.86,
            2.03,
            2.81,
            3.41,
            3.61,
            2.48,
            3.21,
            3.52,
            3.41,
            3.52,
            3.84,
            3.64,
            2.14,
            2.21,
            3.17,
            3.01,
            3.17,
            3.01,
            3.72,
            3.78,
            2.51,
            2.1,
            3.21,
            3.68,
            3.48,
            3.71,
            3.81,
            3.84,
            2.09,
            2.17,
            2.98,
            3.28,
            2.74,
            2.19,
            3.28,
            3.68,
            3.17,
            3.17,
            3.31,
            3.07,
            2.38,
            2.94,
            2.84,
            3.17,
            3.72,
            2.17,
            2.42,
            2.49,
            3.38,
            2.07,
            3.22,
            2.71,
            3.31,
            3.28,
            3.19,
            3.24,
            3.53,
            3.72,
            3.98,
            3.09,
            3.42,
            2.07,
            3.17,
            3.51,
            3.49,
            3.51,
            3.4,
            3.38,
            3.54,
            3.48,
            3.09,
            3.14,
            3.28,
            3.41,
            3.02,
            2.97,
            4,
            3.34,
            3.28,
            3.32,
            3.51,
            3.68,
            3.07,
            2.78,
            3.68,
            3.3,
            3.34,
            3.17,
            3.07,
            3.19,
            2.15,
            3.11,
            2.17,
            2.14,
            3.74,
            3.27,
            3.19,
            2.98,
            3.28
           ]
          }
         ],
         "hovertemplate": "%{xaxis.title.text}=%{x}<br>%{yaxis.title.text}=%{y}<br>univ_GPA=%{marker.color}<extra></extra>",
         "legendgroup": "",
         "marker": {
          "color": [
           3.52,
           2.91,
           2.4,
           3.47,
           3.47,
           2.37,
           2.4,
           2.24,
           3.02,
           3.32,
           3.59,
           2.54,
           3.19,
           3.71,
           3.58,
           3.4,
           3.73,
           3.49,
           2.25,
           2.37,
           3.29,
           3.19,
           3.28,
           3.37,
           3.61,
           3.81,
           2.4,
           2.21,
           3.58,
           3.51,
           3.62,
           3.6,
           3.65,
           3.76,
           2.27,
           2.35,
           3.17,
           3.47,
           3,
           2.74,
           3.37,
           3.54,
           3.28,
           3.39,
           3.28,
           3.19,
           2.52,
           3.08,
           3.01,
           3.42,
           3.6,
           2.4,
           2.83,
           2.38,
           3.21,
           2.24,
           3.4,
           3.07,
           3.52,
           3.47,
           3.08,
           3.38,
           3.41,
           3.64,
           3.71,
           3.01,
           3.37,
           2.34,
           3.29,
           3.4,
           3.38,
           3.28,
           3.31,
           3.42,
           3.39,
           3.51,
           3.17,
           3.2,
           3.41,
           3.29,
           3.17,
           3.12,
           3.71,
           3.5,
           3.34,
           3.48,
           3.44,
           3.59,
           3.28,
           3,
           3.42,
           3.41,
           3.49,
           3.28,
           3.17,
           3.24,
           2.34,
           3.28,
           2.29,
           2.08,
           3.64,
           3.42,
           3.25,
           2.76,
           3.41
          ],
          "coloraxis": "coloraxis",
          "symbol": "circle"
         },
         "name": "",
         "showlegend": false,
         "type": "splom"
        }
       ],
       "layout": {
        "coloraxis": {
         "colorbar": {
          "title": {
           "text": "univ_GPA"
          }
         },
         "colorscale": [
          [
           0,
           "#0d0887"
          ],
          [
           0.1111111111111111,
           "#46039f"
          ],
          [
           0.2222222222222222,
           "#7201a8"
          ],
          [
           0.3333333333333333,
           "#9c179e"
          ],
          [
           0.4444444444444444,
           "#bd3786"
          ],
          [
           0.5555555555555556,
           "#d8576b"
          ],
          [
           0.6666666666666666,
           "#ed7953"
          ],
          [
           0.7777777777777778,
           "#fb9f3a"
          ],
          [
           0.8888888888888888,
           "#fdca26"
          ],
          [
           1,
           "#f0f921"
          ]
         ]
        },
        "dragmode": "select",
        "legend": {
         "tracegroupgap": 0
        },
        "margin": {
         "t": 60
        },
        "template": {
         "data": {
          "bar": [
           {
            "error_x": {
             "color": "#2a3f5f"
            },
            "error_y": {
             "color": "#2a3f5f"
            },
            "marker": {
             "line": {
              "color": "#E5ECF6",
              "width": 0.5
             },
             "pattern": {
              "fillmode": "overlay",
              "size": 10,
              "solidity": 0.2
             }
            },
            "type": "bar"
           }
          ],
          "barpolar": [
           {
            "marker": {
             "line": {
              "color": "#E5ECF6",
              "width": 0.5
             },
             "pattern": {
              "fillmode": "overlay",
              "size": 10,
              "solidity": 0.2
             }
            },
            "type": "barpolar"
           }
          ],
          "carpet": [
           {
            "aaxis": {
             "endlinecolor": "#2a3f5f",
             "gridcolor": "white",
             "linecolor": "white",
             "minorgridcolor": "white",
             "startlinecolor": "#2a3f5f"
            },
            "baxis": {
             "endlinecolor": "#2a3f5f",
             "gridcolor": "white",
             "linecolor": "white",
             "minorgridcolor": "white",
             "startlinecolor": "#2a3f5f"
            },
            "type": "carpet"
           }
          ],
          "choropleth": [
           {
            "colorbar": {
             "outlinewidth": 0,
             "ticks": ""
            },
            "type": "choropleth"
           }
          ],
          "contour": [
           {
            "colorbar": {
             "outlinewidth": 0,
             "ticks": ""
            },
            "colorscale": [
             [
              0,
              "#0d0887"
             ],
             [
              0.1111111111111111,
              "#46039f"
             ],
             [
              0.2222222222222222,
              "#7201a8"
             ],
             [
              0.3333333333333333,
              "#9c179e"
             ],
             [
              0.4444444444444444,
              "#bd3786"
             ],
             [
              0.5555555555555556,
              "#d8576b"
             ],
             [
              0.6666666666666666,
              "#ed7953"
             ],
             [
              0.7777777777777778,
              "#fb9f3a"
             ],
             [
              0.8888888888888888,
              "#fdca26"
             ],
             [
              1,
              "#f0f921"
             ]
            ],
            "type": "contour"
           }
          ],
          "contourcarpet": [
           {
            "colorbar": {
             "outlinewidth": 0,
             "ticks": ""
            },
            "type": "contourcarpet"
           }
          ],
          "heatmap": [
           {
            "colorbar": {
             "outlinewidth": 0,
             "ticks": ""
            },
            "colorscale": [
             [
              0,
              "#0d0887"
             ],
             [
              0.1111111111111111,
              "#46039f"
             ],
             [
              0.2222222222222222,
              "#7201a8"
             ],
             [
              0.3333333333333333,
              "#9c179e"
             ],
             [
              0.4444444444444444,
              "#bd3786"
             ],
             [
              0.5555555555555556,
              "#d8576b"
             ],
             [
              0.6666666666666666,
              "#ed7953"
             ],
             [
              0.7777777777777778,
              "#fb9f3a"
             ],
             [
              0.8888888888888888,
              "#fdca26"
             ],
             [
              1,
              "#f0f921"
             ]
            ],
            "type": "heatmap"
           }
          ],
          "heatmapgl": [
           {
            "colorbar": {
             "outlinewidth": 0,
             "ticks": ""
            },
            "colorscale": [
             [
              0,
              "#0d0887"
             ],
             [
              0.1111111111111111,
              "#46039f"
             ],
             [
              0.2222222222222222,
              "#7201a8"
             ],
             [
              0.3333333333333333,
              "#9c179e"
             ],
             [
              0.4444444444444444,
              "#bd3786"
             ],
             [
              0.5555555555555556,
              "#d8576b"
             ],
             [
              0.6666666666666666,
              "#ed7953"
             ],
             [
              0.7777777777777778,
              "#fb9f3a"
             ],
             [
              0.8888888888888888,
              "#fdca26"
             ],
             [
              1,
              "#f0f921"
             ]
            ],
            "type": "heatmapgl"
           }
          ],
          "histogram": [
           {
            "marker": {
             "pattern": {
              "fillmode": "overlay",
              "size": 10,
              "solidity": 0.2
             }
            },
            "type": "histogram"
           }
          ],
          "histogram2d": [
           {
            "colorbar": {
             "outlinewidth": 0,
             "ticks": ""
            },
            "colorscale": [
             [
              0,
              "#0d0887"
             ],
             [
              0.1111111111111111,
              "#46039f"
             ],
             [
              0.2222222222222222,
              "#7201a8"
             ],
             [
              0.3333333333333333,
              "#9c179e"
             ],
             [
              0.4444444444444444,
              "#bd3786"
             ],
             [
              0.5555555555555556,
              "#d8576b"
             ],
             [
              0.6666666666666666,
              "#ed7953"
             ],
             [
              0.7777777777777778,
              "#fb9f3a"
             ],
             [
              0.8888888888888888,
              "#fdca26"
             ],
             [
              1,
              "#f0f921"
             ]
            ],
            "type": "histogram2d"
           }
          ],
          "histogram2dcontour": [
           {
            "colorbar": {
             "outlinewidth": 0,
             "ticks": ""
            },
            "colorscale": [
             [
              0,
              "#0d0887"
             ],
             [
              0.1111111111111111,
              "#46039f"
             ],
             [
              0.2222222222222222,
              "#7201a8"
             ],
             [
              0.3333333333333333,
              "#9c179e"
             ],
             [
              0.4444444444444444,
              "#bd3786"
             ],
             [
              0.5555555555555556,
              "#d8576b"
             ],
             [
              0.6666666666666666,
              "#ed7953"
             ],
             [
              0.7777777777777778,
              "#fb9f3a"
             ],
             [
              0.8888888888888888,
              "#fdca26"
             ],
             [
              1,
              "#f0f921"
             ]
            ],
            "type": "histogram2dcontour"
           }
          ],
          "mesh3d": [
           {
            "colorbar": {
             "outlinewidth": 0,
             "ticks": ""
            },
            "type": "mesh3d"
           }
          ],
          "parcoords": [
           {
            "line": {
             "colorbar": {
              "outlinewidth": 0,
              "ticks": ""
             }
            },
            "type": "parcoords"
           }
          ],
          "pie": [
           {
            "automargin": true,
            "type": "pie"
           }
          ],
          "scatter": [
           {
            "fillpattern": {
             "fillmode": "overlay",
             "size": 10,
             "solidity": 0.2
            },
            "type": "scatter"
           }
          ],
          "scatter3d": [
           {
            "line": {
             "colorbar": {
              "outlinewidth": 0,
              "ticks": ""
             }
            },
            "marker": {
             "colorbar": {
              "outlinewidth": 0,
              "ticks": ""
             }
            },
            "type": "scatter3d"
           }
          ],
          "scattercarpet": [
           {
            "marker": {
             "colorbar": {
              "outlinewidth": 0,
              "ticks": ""
             }
            },
            "type": "scattercarpet"
           }
          ],
          "scattergeo": [
           {
            "marker": {
             "colorbar": {
              "outlinewidth": 0,
              "ticks": ""
             }
            },
            "type": "scattergeo"
           }
          ],
          "scattergl": [
           {
            "marker": {
             "colorbar": {
              "outlinewidth": 0,
              "ticks": ""
             }
            },
            "type": "scattergl"
           }
          ],
          "scattermapbox": [
           {
            "marker": {
             "colorbar": {
              "outlinewidth": 0,
              "ticks": ""
             }
            },
            "type": "scattermapbox"
           }
          ],
          "scatterpolar": [
           {
            "marker": {
             "colorbar": {
              "outlinewidth": 0,
              "ticks": ""
             }
            },
            "type": "scatterpolar"
           }
          ],
          "scatterpolargl": [
           {
            "marker": {
             "colorbar": {
              "outlinewidth": 0,
              "ticks": ""
             }
            },
            "type": "scatterpolargl"
           }
          ],
          "scatterternary": [
           {
            "marker": {
             "colorbar": {
              "outlinewidth": 0,
              "ticks": ""
             }
            },
            "type": "scatterternary"
           }
          ],
          "surface": [
           {
            "colorbar": {
             "outlinewidth": 0,
             "ticks": ""
            },
            "colorscale": [
             [
              0,
              "#0d0887"
             ],
             [
              0.1111111111111111,
              "#46039f"
             ],
             [
              0.2222222222222222,
              "#7201a8"
             ],
             [
              0.3333333333333333,
              "#9c179e"
             ],
             [
              0.4444444444444444,
              "#bd3786"
             ],
             [
              0.5555555555555556,
              "#d8576b"
             ],
             [
              0.6666666666666666,
              "#ed7953"
             ],
             [
              0.7777777777777778,
              "#fb9f3a"
             ],
             [
              0.8888888888888888,
              "#fdca26"
             ],
             [
              1,
              "#f0f921"
             ]
            ],
            "type": "surface"
           }
          ],
          "table": [
           {
            "cells": {
             "fill": {
              "color": "#EBF0F8"
             },
             "line": {
              "color": "white"
             }
            },
            "header": {
             "fill": {
              "color": "#C8D4E3"
             },
             "line": {
              "color": "white"
             }
            },
            "type": "table"
           }
          ]
         },
         "layout": {
          "annotationdefaults": {
           "arrowcolor": "#2a3f5f",
           "arrowhead": 0,
           "arrowwidth": 1
          },
          "autotypenumbers": "strict",
          "coloraxis": {
           "colorbar": {
            "outlinewidth": 0,
            "ticks": ""
           }
          },
          "colorscale": {
           "diverging": [
            [
             0,
             "#8e0152"
            ],
            [
             0.1,
             "#c51b7d"
            ],
            [
             0.2,
             "#de77ae"
            ],
            [
             0.3,
             "#f1b6da"
            ],
            [
             0.4,
             "#fde0ef"
            ],
            [
             0.5,
             "#f7f7f7"
            ],
            [
             0.6,
             "#e6f5d0"
            ],
            [
             0.7,
             "#b8e186"
            ],
            [
             0.8,
             "#7fbc41"
            ],
            [
             0.9,
             "#4d9221"
            ],
            [
             1,
             "#276419"
            ]
           ],
           "sequential": [
            [
             0,
             "#0d0887"
            ],
            [
             0.1111111111111111,
             "#46039f"
            ],
            [
             0.2222222222222222,
             "#7201a8"
            ],
            [
             0.3333333333333333,
             "#9c179e"
            ],
            [
             0.4444444444444444,
             "#bd3786"
            ],
            [
             0.5555555555555556,
             "#d8576b"
            ],
            [
             0.6666666666666666,
             "#ed7953"
            ],
            [
             0.7777777777777778,
             "#fb9f3a"
            ],
            [
             0.8888888888888888,
             "#fdca26"
            ],
            [
             1,
             "#f0f921"
            ]
           ],
           "sequentialminus": [
            [
             0,
             "#0d0887"
            ],
            [
             0.1111111111111111,
             "#46039f"
            ],
            [
             0.2222222222222222,
             "#7201a8"
            ],
            [
             0.3333333333333333,
             "#9c179e"
            ],
            [
             0.4444444444444444,
             "#bd3786"
            ],
            [
             0.5555555555555556,
             "#d8576b"
            ],
            [
             0.6666666666666666,
             "#ed7953"
            ],
            [
             0.7777777777777778,
             "#fb9f3a"
            ],
            [
             0.8888888888888888,
             "#fdca26"
            ],
            [
             1,
             "#f0f921"
            ]
           ]
          },
          "colorway": [
           "#636efa",
           "#EF553B",
           "#00cc96",
           "#ab63fa",
           "#FFA15A",
           "#19d3f3",
           "#FF6692",
           "#B6E880",
           "#FF97FF",
           "#FECB52"
          ],
          "font": {
           "color": "#2a3f5f"
          },
          "geo": {
           "bgcolor": "white",
           "lakecolor": "white",
           "landcolor": "#E5ECF6",
           "showlakes": true,
           "showland": true,
           "subunitcolor": "white"
          },
          "hoverlabel": {
           "align": "left"
          },
          "hovermode": "closest",
          "mapbox": {
           "style": "light"
          },
          "paper_bgcolor": "white",
          "plot_bgcolor": "#E5ECF6",
          "polar": {
           "angularaxis": {
            "gridcolor": "white",
            "linecolor": "white",
            "ticks": ""
           },
           "bgcolor": "#E5ECF6",
           "radialaxis": {
            "gridcolor": "white",
            "linecolor": "white",
            "ticks": ""
           }
          },
          "scene": {
           "xaxis": {
            "backgroundcolor": "#E5ECF6",
            "gridcolor": "white",
            "gridwidth": 2,
            "linecolor": "white",
            "showbackground": true,
            "ticks": "",
            "zerolinecolor": "white"
           },
           "yaxis": {
            "backgroundcolor": "#E5ECF6",
            "gridcolor": "white",
            "gridwidth": 2,
            "linecolor": "white",
            "showbackground": true,
            "ticks": "",
            "zerolinecolor": "white"
           },
           "zaxis": {
            "backgroundcolor": "#E5ECF6",
            "gridcolor": "white",
            "gridwidth": 2,
            "linecolor": "white",
            "showbackground": true,
            "ticks": "",
            "zerolinecolor": "white"
           }
          },
          "shapedefaults": {
           "line": {
            "color": "#2a3f5f"
           }
          },
          "ternary": {
           "aaxis": {
            "gridcolor": "white",
            "linecolor": "white",
            "ticks": ""
           },
           "baxis": {
            "gridcolor": "white",
            "linecolor": "white",
            "ticks": ""
           },
           "bgcolor": "#E5ECF6",
           "caxis": {
            "gridcolor": "white",
            "linecolor": "white",
            "ticks": ""
           }
          },
          "title": {
           "x": 0.05
          },
          "xaxis": {
           "automargin": true,
           "gridcolor": "white",
           "linecolor": "white",
           "ticks": "",
           "title": {
            "standoff": 15
           },
           "zerolinecolor": "white",
           "zerolinewidth": 2
          },
          "yaxis": {
           "automargin": true,
           "gridcolor": "white",
           "linecolor": "white",
           "ticks": "",
           "title": {
            "standoff": 15
           },
           "zerolinecolor": "white",
           "zerolinewidth": 2
          }
         }
        },
        "title": {
         "text": "Pair Plot - Relationship Between Features"
        }
       }
      }
     },
     "metadata": {},
     "output_type": "display_data"
    },
    {
     "data": {
      "application/vnd.plotly.v1+json": {
       "config": {
        "plotlyServerURL": "https://plot.ly"
       },
       "data": [
        {
         "name": "high_GPA",
         "opacity": 0.7,
         "type": "histogram",
         "x": [
          3.45,
          2.78,
          2.52,
          3.67,
          3.24,
          2.1,
          2.82,
          2.36,
          2.42,
          3.51,
          3.48,
          2.14,
          2.59,
          3.46,
          3.51,
          3.68,
          3.91,
          3.72,
          2.15,
          2.48,
          3.09,
          2.71,
          2.46,
          3.32,
          3.61,
          3.82,
          2.64,
          2.19,
          3.34,
          3.48,
          3.56,
          3.81,
          3.92,
          4,
          2.52,
          2.71,
          3.15,
          3.22,
          2.29,
          2.03,
          3.14,
          3.52,
          2.91,
          2.83,
          2.65,
          2.41,
          2.54,
          2.66,
          3.21,
          3.34,
          3.68,
          2.84,
          2.74,
          2.71,
          2.24,
          2.48,
          3.14,
          2.83,
          3.44,
          2.89,
          2.67,
          3.24,
          3.29,
          3.87,
          3.94,
          3.42,
          3.52,
          2.24,
          3.29,
          3.41,
          3.56,
          3.61,
          3.28,
          3.21,
          3.48,
          3.62,
          2.92,
          2.81,
          3.11,
          3.28,
          2.7,
          2.62,
          3.72,
          3.42,
          3.51,
          3.28,
          3.42,
          3.9,
          3.12,
          2.83,
          2.09,
          3.17,
          3.28,
          3.02,
          3.42,
          3.06,
          2.76,
          3.19,
          2.23,
          2.48,
          3.76,
          3.49,
          3.07,
          2.19,
          3.46
         ],
         "xaxis": "x",
         "yaxis": "y"
        },
        {
         "boxpoints": "outliers",
         "name": "high_GPA",
         "type": "box",
         "xaxis": "x2",
         "y": [
          3.45,
          2.78,
          2.52,
          3.67,
          3.24,
          2.1,
          2.82,
          2.36,
          2.42,
          3.51,
          3.48,
          2.14,
          2.59,
          3.46,
          3.51,
          3.68,
          3.91,
          3.72,
          2.15,
          2.48,
          3.09,
          2.71,
          2.46,
          3.32,
          3.61,
          3.82,
          2.64,
          2.19,
          3.34,
          3.48,
          3.56,
          3.81,
          3.92,
          4,
          2.52,
          2.71,
          3.15,
          3.22,
          2.29,
          2.03,
          3.14,
          3.52,
          2.91,
          2.83,
          2.65,
          2.41,
          2.54,
          2.66,
          3.21,
          3.34,
          3.68,
          2.84,
          2.74,
          2.71,
          2.24,
          2.48,
          3.14,
          2.83,
          3.44,
          2.89,
          2.67,
          3.24,
          3.29,
          3.87,
          3.94,
          3.42,
          3.52,
          2.24,
          3.29,
          3.41,
          3.56,
          3.61,
          3.28,
          3.21,
          3.48,
          3.62,
          2.92,
          2.81,
          3.11,
          3.28,
          2.7,
          2.62,
          3.72,
          3.42,
          3.51,
          3.28,
          3.42,
          3.9,
          3.12,
          2.83,
          2.09,
          3.17,
          3.28,
          3.02,
          3.42,
          3.06,
          2.76,
          3.19,
          2.23,
          2.48,
          3.76,
          3.49,
          3.07,
          2.19,
          3.46
         ],
         "yaxis": "y2"
        },
        {
         "name": "math_SAT",
         "opacity": 0.7,
         "type": "histogram",
         "x": [
          0.37238092889936375,
          -1.2162900990293295,
          -0.7490339143444197,
          1.1573713191700121,
          -0.5808216878578522,
          -1.141529109479744,
          -0.9359363882183837,
          -1.197599851641933,
          -1.328431583353708,
          -0.11356550317294241,
          1.138681071782616,
          -1.0293876251553655,
          -0.3565387192090955,
          -0.07618500839814962,
          0.35369068151196736,
          1.1199908243952195,
          1.4937957721431472,
          1.6620079986297147,
          -1.104148614704951,
          -1.234980346416726,
          -0.5995119352452486,
          -0.44998995614607745,
          -0.3004679770469063,
          -0.07618500839814962,
          1.437725029980958,
          1.7741494829540931,
          -0.8051046565066089,
          -1.141529109479744,
          1.1199908243952195,
          1.7554592355666967,
          1.4564152773683545,
          1.2695128034943906,
          1.6993884934045076,
          1.232132308719598,
          -1.291051088578915,
          -1.104148614704951,
          0.8396371135842736,
          1.2695128034943906,
          -0.9359363882183837,
          -1.0293876251553655,
          -0.3004679770469063,
          0.5219029079985349,
          -0.3565387192090955,
          -1.1789096042545368,
          -0.3565387192090955,
          -0.9172461408309872,
          -1.104148614704951,
          -0.3004679770469063,
          -0.07618500839814962,
          0.44714191844894935,
          0.5219029079985349,
          -0.9733168829931764,
          -0.7490339143444197,
          -1.291051088578915,
          -1.0293876251553655,
          -0.9172461408309872,
          -0.33784847182169914,
          -0.5995119352452486,
          0.35369068151196736,
          -0.2817777296595099,
          -0.9172461408309872,
          0.37238092889936375,
          -0.2817777296595099,
          1.6059372564675256,
          1.2695128034943906,
          0.8209468661968772,
          0.6153541449355169,
          -1.291051088578915,
          1.288203050881787,
          1.138681071782616,
          1.7554592355666967,
          1.6620079986297147,
          0.335000434124571,
          0.9704688452960483,
          1.288203050881787,
          1.138681071782616,
          -1.104148614704951,
          -1.291051088578915,
          1.1573713191700121,
          0.8957078557464627,
          -0.9733168829931764,
          -0.7677241617318161,
          -0.038804513623356844,
          0.5219029079985349,
          0.9330883505212555,
          0.5219029079985349,
          0.9143981031338592,
          -0.5995119352452486,
          -0.7677241617318161,
          -0.26308748227211354,
          -1.291051088578915,
          -0.20701674010992438,
          0.09202721808841789,
          -1.048077872542762,
          -0.07618500839814962,
          1.2695128034943906,
          -1.104148614704951,
          0.5032126606111386,
          -1.3471218307411044,
          -1.0293876251553655,
          -0.33784847182169914,
          1.288203050881787,
          1.0639200822330304,
          -0.11356550317294241,
          -2.001280489299978
         ],
         "xaxis": "x",
         "yaxis": "y"
        },
        {
         "boxpoints": "outliers",
         "name": "math_SAT",
         "type": "box",
         "xaxis": "x2",
         "y": [
          0.37238092889936375,
          -1.2162900990293295,
          -0.7490339143444197,
          1.1573713191700121,
          -0.5808216878578522,
          -1.141529109479744,
          -0.9359363882183837,
          -1.197599851641933,
          -1.328431583353708,
          -0.11356550317294241,
          1.138681071782616,
          -1.0293876251553655,
          -0.3565387192090955,
          -0.07618500839814962,
          0.35369068151196736,
          1.1199908243952195,
          1.4937957721431472,
          1.6620079986297147,
          -1.104148614704951,
          -1.234980346416726,
          -0.5995119352452486,
          -0.44998995614607745,
          -0.3004679770469063,
          -0.07618500839814962,
          1.437725029980958,
          1.7741494829540931,
          -0.8051046565066089,
          -1.141529109479744,
          1.1199908243952195,
          1.7554592355666967,
          1.4564152773683545,
          1.2695128034943906,
          1.6993884934045076,
          1.232132308719598,
          -1.291051088578915,
          -1.104148614704951,
          0.8396371135842736,
          1.2695128034943906,
          -0.9359363882183837,
          -1.0293876251553655,
          -0.3004679770469063,
          0.5219029079985349,
          -0.3565387192090955,
          -1.1789096042545368,
          -0.3565387192090955,
          -0.9172461408309872,
          -1.104148614704951,
          -0.3004679770469063,
          -0.07618500839814962,
          0.44714191844894935,
          0.5219029079985349,
          -0.9733168829931764,
          -0.7490339143444197,
          -1.291051088578915,
          -1.0293876251553655,
          -0.9172461408309872,
          -0.33784847182169914,
          -0.5995119352452486,
          0.35369068151196736,
          -0.2817777296595099,
          -0.9172461408309872,
          0.37238092889936375,
          -0.2817777296595099,
          1.6059372564675256,
          1.2695128034943906,
          0.8209468661968772,
          0.6153541449355169,
          -1.291051088578915,
          1.288203050881787,
          1.138681071782616,
          1.7554592355666967,
          1.6620079986297147,
          0.335000434124571,
          0.9704688452960483,
          1.288203050881787,
          1.138681071782616,
          -1.104148614704951,
          -1.291051088578915,
          1.1573713191700121,
          0.8957078557464627,
          -0.9733168829931764,
          -0.7677241617318161,
          -0.038804513623356844,
          0.5219029079985349,
          0.9330883505212555,
          0.5219029079985349,
          0.9143981031338592,
          -0.5995119352452486,
          -0.7677241617318161,
          -0.26308748227211354,
          -1.291051088578915,
          -0.20701674010992438,
          0.09202721808841789,
          -1.048077872542762,
          -0.07618500839814962,
          1.2695128034943906,
          -1.104148614704951,
          0.5032126606111386,
          -1.3471218307411044,
          -1.0293876251553655,
          -0.33784847182169914,
          1.288203050881787,
          1.0639200822330304,
          -0.11356550317294241,
          -2.001280489299978
         ],
         "yaxis": "y2"
        },
        {
         "name": "verb_SAT",
         "opacity": 0.7,
         "type": "histogram",
         "x": [
          -0.1532003073270151,
          -1.3819944390124457,
          -1.525619727131522,
          0.05425844217831735,
          -0.9670769400017808,
          -1.7969119380231107,
          -0.8074932865361405,
          -0.9989936706949089,
          -0.2489504994063993,
          -0.12128357663388702,
          0.8043016134668269,
          -0.10532521128732299,
          -0.2649088647529633,
          0.4053424798027261,
          0.32555065306990594,
          0.6925930560408787,
          1.362844400596568,
          0.852176709506519,
          -1.55753645782465,
          -0.7915349211895765,
          -0.23299213405983527,
          -0.584076171684244,
          0.32555065306990594,
          -0.6479096330705001,
          1.9533039184194374,
          2.1288459372316417,
          -0.9670769400017808,
          -1.4617862657452658,
          0.7883432481202629,
          2.0011790144591295,
          1.8415953609934892,
          1.362844400596568,
          1.713928438220977,
          1.1873023817843638,
          -1.4617862657452658,
          -0.8872851132689606,
          0.08617517287144542,
          1.0117603629721594,
          -0.12128357663388702,
          -1.3022026122796255,
          0.4053424798027261,
          1.346886035250004,
          -0.2489504994063993,
          -0.9032434786155247,
          0.2936339223767779,
          -0.8074932865361405,
          -1.573494823171214,
          -1.1266605934674212,
          -0.40853415287203965,
          0.15000863425770156,
          1.346886035250004,
          -0.8872851132689606,
          -1.4139111697055737,
          -0.9670769400017808,
          -1.2702858815864975,
          0.05425844217831735,
          0.32555065306990594,
          -0.23299213405983527,
          0.15000863425770156,
          -0.40853415287203965,
          -0.9670769400017808,
          0.13405026891113753,
          0.8043016134668269,
          1.4266778619828242,
          0.7404681520805708,
          -0.2489504994063993,
          0.16596699960426559,
          -0.9032434786155247,
          -0.5681178063376799,
          1.1713440164377997,
          0.8043016134668269,
          1.745845168914105,
          0.15000863425770156,
          0.5330094025752383,
          1.5862615154484647,
          0.16596699960426559,
          -0.12128357663388702,
          -1.4298695350521378,
          1.5224280540622084,
          0.16596699960426559,
          -1.525619727131522,
          -0.12128357663388702,
          -0.1532003073270151,
          0.6925930560408787,
          1.314969304556876,
          0.6606763253477507,
          0.13405026891113753,
          -0.18511703802014315,
          0.2138420956439577,
          -0.6957847291101923,
          -1.8926621301024948,
          -0.13724194198045106,
          -0.2968255954460914,
          0.05425844217831735,
          0.38938411445616206,
          1.346886035250004,
          -0.7915349211895765,
          1.362844400596568,
          -0.7117430944567563,
          -0.9192018439620887,
          -0.13724194198045106,
          1.346886035250004,
          1.4905113233690803,
          -1.525619727131522,
          -1.1266605934674212
         ],
         "xaxis": "x",
         "yaxis": "y"
        },
        {
         "boxpoints": "outliers",
         "name": "verb_SAT",
         "type": "box",
         "xaxis": "x2",
         "y": [
          -0.1532003073270151,
          -1.3819944390124457,
          -1.525619727131522,
          0.05425844217831735,
          -0.9670769400017808,
          -1.7969119380231107,
          -0.8074932865361405,
          -0.9989936706949089,
          -0.2489504994063993,
          -0.12128357663388702,
          0.8043016134668269,
          -0.10532521128732299,
          -0.2649088647529633,
          0.4053424798027261,
          0.32555065306990594,
          0.6925930560408787,
          1.362844400596568,
          0.852176709506519,
          -1.55753645782465,
          -0.7915349211895765,
          -0.23299213405983527,
          -0.584076171684244,
          0.32555065306990594,
          -0.6479096330705001,
          1.9533039184194374,
          2.1288459372316417,
          -0.9670769400017808,
          -1.4617862657452658,
          0.7883432481202629,
          2.0011790144591295,
          1.8415953609934892,
          1.362844400596568,
          1.713928438220977,
          1.1873023817843638,
          -1.4617862657452658,
          -0.8872851132689606,
          0.08617517287144542,
          1.0117603629721594,
          -0.12128357663388702,
          -1.3022026122796255,
          0.4053424798027261,
          1.346886035250004,
          -0.2489504994063993,
          -0.9032434786155247,
          0.2936339223767779,
          -0.8074932865361405,
          -1.573494823171214,
          -1.1266605934674212,
          -0.40853415287203965,
          0.15000863425770156,
          1.346886035250004,
          -0.8872851132689606,
          -1.4139111697055737,
          -0.9670769400017808,
          -1.2702858815864975,
          0.05425844217831735,
          0.32555065306990594,
          -0.23299213405983527,
          0.15000863425770156,
          -0.40853415287203965,
          -0.9670769400017808,
          0.13405026891113753,
          0.8043016134668269,
          1.4266778619828242,
          0.7404681520805708,
          -0.2489504994063993,
          0.16596699960426559,
          -0.9032434786155247,
          -0.5681178063376799,
          1.1713440164377997,
          0.8043016134668269,
          1.745845168914105,
          0.15000863425770156,
          0.5330094025752383,
          1.5862615154484647,
          0.16596699960426559,
          -0.12128357663388702,
          -1.4298695350521378,
          1.5224280540622084,
          0.16596699960426559,
          -1.525619727131522,
          -0.12128357663388702,
          -0.1532003073270151,
          0.6925930560408787,
          1.314969304556876,
          0.6606763253477507,
          0.13405026891113753,
          -0.18511703802014315,
          0.2138420956439577,
          -0.6957847291101923,
          -1.8926621301024948,
          -0.13724194198045106,
          -0.2968255954460914,
          0.05425844217831735,
          0.38938411445616206,
          1.346886035250004,
          -0.7915349211895765,
          1.362844400596568,
          -0.7117430944567563,
          -0.9192018439620887,
          -0.13724194198045106,
          1.346886035250004,
          1.4905113233690803,
          -1.525619727131522,
          -1.1266605934674212
         ],
         "yaxis": "y2"
        },
        {
         "name": "comp_GPA",
         "opacity": 0.7,
         "type": "histogram",
         "x": [
          3.76,
          2.87,
          2.54,
          3.83,
          3.29,
          2.64,
          2.86,
          2.03,
          2.81,
          3.41,
          3.61,
          2.48,
          3.21,
          3.52,
          3.41,
          3.52,
          3.84,
          3.64,
          2.14,
          2.21,
          3.17,
          3.01,
          3.17,
          3.01,
          3.72,
          3.78,
          2.51,
          2.1,
          3.21,
          3.68,
          3.48,
          3.71,
          3.81,
          3.84,
          2.09,
          2.17,
          2.98,
          3.28,
          2.74,
          2.19,
          3.28,
          3.68,
          3.17,
          3.17,
          3.31,
          3.07,
          2.38,
          2.94,
          2.84,
          3.17,
          3.72,
          2.17,
          2.42,
          2.49,
          3.38,
          2.07,
          3.22,
          2.71,
          3.31,
          3.28,
          3.19,
          3.24,
          3.53,
          3.72,
          3.98,
          3.09,
          3.42,
          2.07,
          3.17,
          3.51,
          3.49,
          3.51,
          3.4,
          3.38,
          3.54,
          3.48,
          3.09,
          3.14,
          3.28,
          3.41,
          3.02,
          2.97,
          4,
          3.34,
          3.28,
          3.32,
          3.51,
          3.68,
          3.07,
          2.78,
          3.68,
          3.3,
          3.34,
          3.17,
          3.07,
          3.19,
          2.15,
          3.11,
          2.17,
          2.14,
          3.74,
          3.27,
          3.19,
          2.98,
          3.28
         ],
         "xaxis": "x",
         "yaxis": "y"
        },
        {
         "boxpoints": "outliers",
         "name": "comp_GPA",
         "type": "box",
         "xaxis": "x2",
         "y": [
          3.76,
          2.87,
          2.54,
          3.83,
          3.29,
          2.64,
          2.86,
          2.03,
          2.81,
          3.41,
          3.61,
          2.48,
          3.21,
          3.52,
          3.41,
          3.52,
          3.84,
          3.64,
          2.14,
          2.21,
          3.17,
          3.01,
          3.17,
          3.01,
          3.72,
          3.78,
          2.51,
          2.1,
          3.21,
          3.68,
          3.48,
          3.71,
          3.81,
          3.84,
          2.09,
          2.17,
          2.98,
          3.28,
          2.74,
          2.19,
          3.28,
          3.68,
          3.17,
          3.17,
          3.31,
          3.07,
          2.38,
          2.94,
          2.84,
          3.17,
          3.72,
          2.17,
          2.42,
          2.49,
          3.38,
          2.07,
          3.22,
          2.71,
          3.31,
          3.28,
          3.19,
          3.24,
          3.53,
          3.72,
          3.98,
          3.09,
          3.42,
          2.07,
          3.17,
          3.51,
          3.49,
          3.51,
          3.4,
          3.38,
          3.54,
          3.48,
          3.09,
          3.14,
          3.28,
          3.41,
          3.02,
          2.97,
          4,
          3.34,
          3.28,
          3.32,
          3.51,
          3.68,
          3.07,
          2.78,
          3.68,
          3.3,
          3.34,
          3.17,
          3.07,
          3.19,
          2.15,
          3.11,
          2.17,
          2.14,
          3.74,
          3.27,
          3.19,
          2.98,
          3.28
         ],
         "yaxis": "y2"
        },
        {
         "name": "univ_GPA",
         "opacity": 0.7,
         "type": "histogram",
         "x": [
          3.52,
          2.91,
          2.4,
          3.47,
          3.47,
          2.37,
          2.4,
          2.24,
          3.02,
          3.32,
          3.59,
          2.54,
          3.19,
          3.71,
          3.58,
          3.4,
          3.73,
          3.49,
          2.25,
          2.37,
          3.29,
          3.19,
          3.28,
          3.37,
          3.61,
          3.81,
          2.4,
          2.21,
          3.58,
          3.51,
          3.62,
          3.6,
          3.65,
          3.76,
          2.27,
          2.35,
          3.17,
          3.47,
          3,
          2.74,
          3.37,
          3.54,
          3.28,
          3.39,
          3.28,
          3.19,
          2.52,
          3.08,
          3.01,
          3.42,
          3.6,
          2.4,
          2.83,
          2.38,
          3.21,
          2.24,
          3.4,
          3.07,
          3.52,
          3.47,
          3.08,
          3.38,
          3.41,
          3.64,
          3.71,
          3.01,
          3.37,
          2.34,
          3.29,
          3.4,
          3.38,
          3.28,
          3.31,
          3.42,
          3.39,
          3.51,
          3.17,
          3.2,
          3.41,
          3.29,
          3.17,
          3.12,
          3.71,
          3.5,
          3.34,
          3.48,
          3.44,
          3.59,
          3.28,
          3,
          3.42,
          3.41,
          3.49,
          3.28,
          3.17,
          3.24,
          2.34,
          3.28,
          2.29,
          2.08,
          3.64,
          3.42,
          3.25,
          2.76,
          3.41
         ],
         "xaxis": "x",
         "yaxis": "y"
        },
        {
         "boxpoints": "outliers",
         "name": "univ_GPA",
         "type": "box",
         "xaxis": "x2",
         "y": [
          3.52,
          2.91,
          2.4,
          3.47,
          3.47,
          2.37,
          2.4,
          2.24,
          3.02,
          3.32,
          3.59,
          2.54,
          3.19,
          3.71,
          3.58,
          3.4,
          3.73,
          3.49,
          2.25,
          2.37,
          3.29,
          3.19,
          3.28,
          3.37,
          3.61,
          3.81,
          2.4,
          2.21,
          3.58,
          3.51,
          3.62,
          3.6,
          3.65,
          3.76,
          2.27,
          2.35,
          3.17,
          3.47,
          3,
          2.74,
          3.37,
          3.54,
          3.28,
          3.39,
          3.28,
          3.19,
          2.52,
          3.08,
          3.01,
          3.42,
          3.6,
          2.4,
          2.83,
          2.38,
          3.21,
          2.24,
          3.4,
          3.07,
          3.52,
          3.47,
          3.08,
          3.38,
          3.41,
          3.64,
          3.71,
          3.01,
          3.37,
          2.34,
          3.29,
          3.4,
          3.38,
          3.28,
          3.31,
          3.42,
          3.39,
          3.51,
          3.17,
          3.2,
          3.41,
          3.29,
          3.17,
          3.12,
          3.71,
          3.5,
          3.34,
          3.48,
          3.44,
          3.59,
          3.28,
          3,
          3.42,
          3.41,
          3.49,
          3.28,
          3.17,
          3.24,
          2.34,
          3.28,
          2.29,
          2.08,
          3.64,
          3.42,
          3.25,
          2.76,
          3.41
         ],
         "yaxis": "y2"
        }
       ],
       "layout": {
        "annotations": [
         {
          "font": {
           "size": 16
          },
          "showarrow": false,
          "text": "Feature Distributions",
          "x": 0.27,
          "xanchor": "center",
          "xref": "paper",
          "y": 1,
          "yanchor": "bottom",
          "yref": "paper"
         },
         {
          "font": {
           "size": 16
          },
          "showarrow": false,
          "text": "Box Plot - Outliers",
          "x": 0.8200000000000001,
          "xanchor": "center",
          "xref": "paper",
          "y": 1,
          "yanchor": "bottom",
          "yref": "paper"
         }
        ],
        "showlegend": false,
        "template": {
         "data": {
          "bar": [
           {
            "error_x": {
             "color": "#2a3f5f"
            },
            "error_y": {
             "color": "#2a3f5f"
            },
            "marker": {
             "line": {
              "color": "#E5ECF6",
              "width": 0.5
             },
             "pattern": {
              "fillmode": "overlay",
              "size": 10,
              "solidity": 0.2
             }
            },
            "type": "bar"
           }
          ],
          "barpolar": [
           {
            "marker": {
             "line": {
              "color": "#E5ECF6",
              "width": 0.5
             },
             "pattern": {
              "fillmode": "overlay",
              "size": 10,
              "solidity": 0.2
             }
            },
            "type": "barpolar"
           }
          ],
          "carpet": [
           {
            "aaxis": {
             "endlinecolor": "#2a3f5f",
             "gridcolor": "white",
             "linecolor": "white",
             "minorgridcolor": "white",
             "startlinecolor": "#2a3f5f"
            },
            "baxis": {
             "endlinecolor": "#2a3f5f",
             "gridcolor": "white",
             "linecolor": "white",
             "minorgridcolor": "white",
             "startlinecolor": "#2a3f5f"
            },
            "type": "carpet"
           }
          ],
          "choropleth": [
           {
            "colorbar": {
             "outlinewidth": 0,
             "ticks": ""
            },
            "type": "choropleth"
           }
          ],
          "contour": [
           {
            "colorbar": {
             "outlinewidth": 0,
             "ticks": ""
            },
            "colorscale": [
             [
              0,
              "#0d0887"
             ],
             [
              0.1111111111111111,
              "#46039f"
             ],
             [
              0.2222222222222222,
              "#7201a8"
             ],
             [
              0.3333333333333333,
              "#9c179e"
             ],
             [
              0.4444444444444444,
              "#bd3786"
             ],
             [
              0.5555555555555556,
              "#d8576b"
             ],
             [
              0.6666666666666666,
              "#ed7953"
             ],
             [
              0.7777777777777778,
              "#fb9f3a"
             ],
             [
              0.8888888888888888,
              "#fdca26"
             ],
             [
              1,
              "#f0f921"
             ]
            ],
            "type": "contour"
           }
          ],
          "contourcarpet": [
           {
            "colorbar": {
             "outlinewidth": 0,
             "ticks": ""
            },
            "type": "contourcarpet"
           }
          ],
          "heatmap": [
           {
            "colorbar": {
             "outlinewidth": 0,
             "ticks": ""
            },
            "colorscale": [
             [
              0,
              "#0d0887"
             ],
             [
              0.1111111111111111,
              "#46039f"
             ],
             [
              0.2222222222222222,
              "#7201a8"
             ],
             [
              0.3333333333333333,
              "#9c179e"
             ],
             [
              0.4444444444444444,
              "#bd3786"
             ],
             [
              0.5555555555555556,
              "#d8576b"
             ],
             [
              0.6666666666666666,
              "#ed7953"
             ],
             [
              0.7777777777777778,
              "#fb9f3a"
             ],
             [
              0.8888888888888888,
              "#fdca26"
             ],
             [
              1,
              "#f0f921"
             ]
            ],
            "type": "heatmap"
           }
          ],
          "heatmapgl": [
           {
            "colorbar": {
             "outlinewidth": 0,
             "ticks": ""
            },
            "colorscale": [
             [
              0,
              "#0d0887"
             ],
             [
              0.1111111111111111,
              "#46039f"
             ],
             [
              0.2222222222222222,
              "#7201a8"
             ],
             [
              0.3333333333333333,
              "#9c179e"
             ],
             [
              0.4444444444444444,
              "#bd3786"
             ],
             [
              0.5555555555555556,
              "#d8576b"
             ],
             [
              0.6666666666666666,
              "#ed7953"
             ],
             [
              0.7777777777777778,
              "#fb9f3a"
             ],
             [
              0.8888888888888888,
              "#fdca26"
             ],
             [
              1,
              "#f0f921"
             ]
            ],
            "type": "heatmapgl"
           }
          ],
          "histogram": [
           {
            "marker": {
             "pattern": {
              "fillmode": "overlay",
              "size": 10,
              "solidity": 0.2
             }
            },
            "type": "histogram"
           }
          ],
          "histogram2d": [
           {
            "colorbar": {
             "outlinewidth": 0,
             "ticks": ""
            },
            "colorscale": [
             [
              0,
              "#0d0887"
             ],
             [
              0.1111111111111111,
              "#46039f"
             ],
             [
              0.2222222222222222,
              "#7201a8"
             ],
             [
              0.3333333333333333,
              "#9c179e"
             ],
             [
              0.4444444444444444,
              "#bd3786"
             ],
             [
              0.5555555555555556,
              "#d8576b"
             ],
             [
              0.6666666666666666,
              "#ed7953"
             ],
             [
              0.7777777777777778,
              "#fb9f3a"
             ],
             [
              0.8888888888888888,
              "#fdca26"
             ],
             [
              1,
              "#f0f921"
             ]
            ],
            "type": "histogram2d"
           }
          ],
          "histogram2dcontour": [
           {
            "colorbar": {
             "outlinewidth": 0,
             "ticks": ""
            },
            "colorscale": [
             [
              0,
              "#0d0887"
             ],
             [
              0.1111111111111111,
              "#46039f"
             ],
             [
              0.2222222222222222,
              "#7201a8"
             ],
             [
              0.3333333333333333,
              "#9c179e"
             ],
             [
              0.4444444444444444,
              "#bd3786"
             ],
             [
              0.5555555555555556,
              "#d8576b"
             ],
             [
              0.6666666666666666,
              "#ed7953"
             ],
             [
              0.7777777777777778,
              "#fb9f3a"
             ],
             [
              0.8888888888888888,
              "#fdca26"
             ],
             [
              1,
              "#f0f921"
             ]
            ],
            "type": "histogram2dcontour"
           }
          ],
          "mesh3d": [
           {
            "colorbar": {
             "outlinewidth": 0,
             "ticks": ""
            },
            "type": "mesh3d"
           }
          ],
          "parcoords": [
           {
            "line": {
             "colorbar": {
              "outlinewidth": 0,
              "ticks": ""
             }
            },
            "type": "parcoords"
           }
          ],
          "pie": [
           {
            "automargin": true,
            "type": "pie"
           }
          ],
          "scatter": [
           {
            "fillpattern": {
             "fillmode": "overlay",
             "size": 10,
             "solidity": 0.2
            },
            "type": "scatter"
           }
          ],
          "scatter3d": [
           {
            "line": {
             "colorbar": {
              "outlinewidth": 0,
              "ticks": ""
             }
            },
            "marker": {
             "colorbar": {
              "outlinewidth": 0,
              "ticks": ""
             }
            },
            "type": "scatter3d"
           }
          ],
          "scattercarpet": [
           {
            "marker": {
             "colorbar": {
              "outlinewidth": 0,
              "ticks": ""
             }
            },
            "type": "scattercarpet"
           }
          ],
          "scattergeo": [
           {
            "marker": {
             "colorbar": {
              "outlinewidth": 0,
              "ticks": ""
             }
            },
            "type": "scattergeo"
           }
          ],
          "scattergl": [
           {
            "marker": {
             "colorbar": {
              "outlinewidth": 0,
              "ticks": ""
             }
            },
            "type": "scattergl"
           }
          ],
          "scattermapbox": [
           {
            "marker": {
             "colorbar": {
              "outlinewidth": 0,
              "ticks": ""
             }
            },
            "type": "scattermapbox"
           }
          ],
          "scatterpolar": [
           {
            "marker": {
             "colorbar": {
              "outlinewidth": 0,
              "ticks": ""
             }
            },
            "type": "scatterpolar"
           }
          ],
          "scatterpolargl": [
           {
            "marker": {
             "colorbar": {
              "outlinewidth": 0,
              "ticks": ""
             }
            },
            "type": "scatterpolargl"
           }
          ],
          "scatterternary": [
           {
            "marker": {
             "colorbar": {
              "outlinewidth": 0,
              "ticks": ""
             }
            },
            "type": "scatterternary"
           }
          ],
          "surface": [
           {
            "colorbar": {
             "outlinewidth": 0,
             "ticks": ""
            },
            "colorscale": [
             [
              0,
              "#0d0887"
             ],
             [
              0.1111111111111111,
              "#46039f"
             ],
             [
              0.2222222222222222,
              "#7201a8"
             ],
             [
              0.3333333333333333,
              "#9c179e"
             ],
             [
              0.4444444444444444,
              "#bd3786"
             ],
             [
              0.5555555555555556,
              "#d8576b"
             ],
             [
              0.6666666666666666,
              "#ed7953"
             ],
             [
              0.7777777777777778,
              "#fb9f3a"
             ],
             [
              0.8888888888888888,
              "#fdca26"
             ],
             [
              1,
              "#f0f921"
             ]
            ],
            "type": "surface"
           }
          ],
          "table": [
           {
            "cells": {
             "fill": {
              "color": "#EBF0F8"
             },
             "line": {
              "color": "white"
             }
            },
            "header": {
             "fill": {
              "color": "#C8D4E3"
             },
             "line": {
              "color": "white"
             }
            },
            "type": "table"
           }
          ]
         },
         "layout": {
          "annotationdefaults": {
           "arrowcolor": "#2a3f5f",
           "arrowhead": 0,
           "arrowwidth": 1
          },
          "autotypenumbers": "strict",
          "coloraxis": {
           "colorbar": {
            "outlinewidth": 0,
            "ticks": ""
           }
          },
          "colorscale": {
           "diverging": [
            [
             0,
             "#8e0152"
            ],
            [
             0.1,
             "#c51b7d"
            ],
            [
             0.2,
             "#de77ae"
            ],
            [
             0.3,
             "#f1b6da"
            ],
            [
             0.4,
             "#fde0ef"
            ],
            [
             0.5,
             "#f7f7f7"
            ],
            [
             0.6,
             "#e6f5d0"
            ],
            [
             0.7,
             "#b8e186"
            ],
            [
             0.8,
             "#7fbc41"
            ],
            [
             0.9,
             "#4d9221"
            ],
            [
             1,
             "#276419"
            ]
           ],
           "sequential": [
            [
             0,
             "#0d0887"
            ],
            [
             0.1111111111111111,
             "#46039f"
            ],
            [
             0.2222222222222222,
             "#7201a8"
            ],
            [
             0.3333333333333333,
             "#9c179e"
            ],
            [
             0.4444444444444444,
             "#bd3786"
            ],
            [
             0.5555555555555556,
             "#d8576b"
            ],
            [
             0.6666666666666666,
             "#ed7953"
            ],
            [
             0.7777777777777778,
             "#fb9f3a"
            ],
            [
             0.8888888888888888,
             "#fdca26"
            ],
            [
             1,
             "#f0f921"
            ]
           ],
           "sequentialminus": [
            [
             0,
             "#0d0887"
            ],
            [
             0.1111111111111111,
             "#46039f"
            ],
            [
             0.2222222222222222,
             "#7201a8"
            ],
            [
             0.3333333333333333,
             "#9c179e"
            ],
            [
             0.4444444444444444,
             "#bd3786"
            ],
            [
             0.5555555555555556,
             "#d8576b"
            ],
            [
             0.6666666666666666,
             "#ed7953"
            ],
            [
             0.7777777777777778,
             "#fb9f3a"
            ],
            [
             0.8888888888888888,
             "#fdca26"
            ],
            [
             1,
             "#f0f921"
            ]
           ]
          },
          "colorway": [
           "#636efa",
           "#EF553B",
           "#00cc96",
           "#ab63fa",
           "#FFA15A",
           "#19d3f3",
           "#FF6692",
           "#B6E880",
           "#FF97FF",
           "#FECB52"
          ],
          "font": {
           "color": "#2a3f5f"
          },
          "geo": {
           "bgcolor": "white",
           "lakecolor": "white",
           "landcolor": "#E5ECF6",
           "showlakes": true,
           "showland": true,
           "subunitcolor": "white"
          },
          "hoverlabel": {
           "align": "left"
          },
          "hovermode": "closest",
          "mapbox": {
           "style": "light"
          },
          "paper_bgcolor": "white",
          "plot_bgcolor": "#E5ECF6",
          "polar": {
           "angularaxis": {
            "gridcolor": "white",
            "linecolor": "white",
            "ticks": ""
           },
           "bgcolor": "#E5ECF6",
           "radialaxis": {
            "gridcolor": "white",
            "linecolor": "white",
            "ticks": ""
           }
          },
          "scene": {
           "xaxis": {
            "backgroundcolor": "#E5ECF6",
            "gridcolor": "white",
            "gridwidth": 2,
            "linecolor": "white",
            "showbackground": true,
            "ticks": "",
            "zerolinecolor": "white"
           },
           "yaxis": {
            "backgroundcolor": "#E5ECF6",
            "gridcolor": "white",
            "gridwidth": 2,
            "linecolor": "white",
            "showbackground": true,
            "ticks": "",
            "zerolinecolor": "white"
           },
           "zaxis": {
            "backgroundcolor": "#E5ECF6",
            "gridcolor": "white",
            "gridwidth": 2,
            "linecolor": "white",
            "showbackground": true,
            "ticks": "",
            "zerolinecolor": "white"
           }
          },
          "shapedefaults": {
           "line": {
            "color": "#2a3f5f"
           }
          },
          "ternary": {
           "aaxis": {
            "gridcolor": "white",
            "linecolor": "white",
            "ticks": ""
           },
           "baxis": {
            "gridcolor": "white",
            "linecolor": "white",
            "ticks": ""
           },
           "bgcolor": "#E5ECF6",
           "caxis": {
            "gridcolor": "white",
            "linecolor": "white",
            "ticks": ""
           }
          },
          "title": {
           "x": 0.05
          },
          "xaxis": {
           "automargin": true,
           "gridcolor": "white",
           "linecolor": "white",
           "ticks": "",
           "title": {
            "standoff": 15
           },
           "zerolinecolor": "white",
           "zerolinewidth": 2
          },
          "yaxis": {
           "automargin": true,
           "gridcolor": "white",
           "linecolor": "white",
           "ticks": "",
           "title": {
            "standoff": 15
           },
           "zerolinecolor": "white",
           "zerolinewidth": 2
          }
         }
        },
        "title": {
         "text": "Feature Distribution & Outlier Analysis"
        },
        "xaxis": {
         "anchor": "y",
         "domain": [
          0,
          0.54
         ]
        },
        "xaxis2": {
         "anchor": "y2",
         "domain": [
          0.64,
          1
         ]
        },
        "yaxis": {
         "anchor": "x",
         "domain": [
          0,
          1
         ]
        },
        "yaxis2": {
         "anchor": "x2",
         "domain": [
          0,
          1
         ]
        }
       }
      }
     },
     "metadata": {},
     "output_type": "display_data"
    },
    {
     "data": {
      "application/vnd.plotly.v1+json": {
       "config": {
        "plotlyServerURL": "https://plot.ly"
       },
       "data": [
        {
         "colorscale": [
          [
           0,
           "rgb(165,0,38)"
          ],
          [
           0.1,
           "rgb(215,48,39)"
          ],
          [
           0.2,
           "rgb(244,109,67)"
          ],
          [
           0.3,
           "rgb(253,174,97)"
          ],
          [
           0.4,
           "rgb(254,224,144)"
          ],
          [
           0.5,
           "rgb(255,255,191)"
          ],
          [
           0.6,
           "rgb(224,243,248)"
          ],
          [
           0.7,
           "rgb(171,217,233)"
          ],
          [
           0.8,
           "rgb(116,173,209)"
          ],
          [
           0.9,
           "rgb(69,117,180)"
          ],
          [
           1,
           "rgb(49,54,149)"
          ]
         ],
         "text": [
          [
           1,
           0.7681423398340972,
           0.726147777120927,
           0.791472133226776,
           0.7795631205489156
          ],
          [
           0.7681423398340972,
           1,
           0.8352271757296766,
           0.6877208650799789,
           0.6627836935229128
          ],
          [
           0.726147777120927,
           0.8352271757296766,
           1,
           0.6387512054835746,
           0.6503012102757499
          ],
          [
           0.791472133226776,
           0.6877208650799789,
           0.6387512054835746,
           1,
           0.9390458798424464
          ],
          [
           0.7795631205489156,
           0.6627836935229128,
           0.6503012102757499,
           0.9390458798424464,
           1
          ]
         ],
         "texttemplate": "%{text:.2f}",
         "type": "heatmap",
         "x": [
          "high_GPA",
          "math_SAT",
          "verb_SAT",
          "comp_GPA",
          "univ_GPA"
         ],
         "y": [
          "high_GPA",
          "math_SAT",
          "verb_SAT",
          "comp_GPA",
          "univ_GPA"
         ],
         "z": [
          [
           1,
           0.7681423398340972,
           0.726147777120927,
           0.791472133226776,
           0.7795631205489156
          ],
          [
           0.7681423398340972,
           1,
           0.8352271757296766,
           0.6877208650799789,
           0.6627836935229128
          ],
          [
           0.726147777120927,
           0.8352271757296766,
           1,
           0.6387512054835746,
           0.6503012102757499
          ],
          [
           0.791472133226776,
           0.6877208650799789,
           0.6387512054835746,
           1,
           0.9390458798424464
          ],
          [
           0.7795631205489156,
           0.6627836935229128,
           0.6503012102757499,
           0.9390458798424464,
           1
          ]
         ]
        }
       ],
       "layout": {
        "template": {
         "data": {
          "bar": [
           {
            "error_x": {
             "color": "#2a3f5f"
            },
            "error_y": {
             "color": "#2a3f5f"
            },
            "marker": {
             "line": {
              "color": "#E5ECF6",
              "width": 0.5
             },
             "pattern": {
              "fillmode": "overlay",
              "size": 10,
              "solidity": 0.2
             }
            },
            "type": "bar"
           }
          ],
          "barpolar": [
           {
            "marker": {
             "line": {
              "color": "#E5ECF6",
              "width": 0.5
             },
             "pattern": {
              "fillmode": "overlay",
              "size": 10,
              "solidity": 0.2
             }
            },
            "type": "barpolar"
           }
          ],
          "carpet": [
           {
            "aaxis": {
             "endlinecolor": "#2a3f5f",
             "gridcolor": "white",
             "linecolor": "white",
             "minorgridcolor": "white",
             "startlinecolor": "#2a3f5f"
            },
            "baxis": {
             "endlinecolor": "#2a3f5f",
             "gridcolor": "white",
             "linecolor": "white",
             "minorgridcolor": "white",
             "startlinecolor": "#2a3f5f"
            },
            "type": "carpet"
           }
          ],
          "choropleth": [
           {
            "colorbar": {
             "outlinewidth": 0,
             "ticks": ""
            },
            "type": "choropleth"
           }
          ],
          "contour": [
           {
            "colorbar": {
             "outlinewidth": 0,
             "ticks": ""
            },
            "colorscale": [
             [
              0,
              "#0d0887"
             ],
             [
              0.1111111111111111,
              "#46039f"
             ],
             [
              0.2222222222222222,
              "#7201a8"
             ],
             [
              0.3333333333333333,
              "#9c179e"
             ],
             [
              0.4444444444444444,
              "#bd3786"
             ],
             [
              0.5555555555555556,
              "#d8576b"
             ],
             [
              0.6666666666666666,
              "#ed7953"
             ],
             [
              0.7777777777777778,
              "#fb9f3a"
             ],
             [
              0.8888888888888888,
              "#fdca26"
             ],
             [
              1,
              "#f0f921"
             ]
            ],
            "type": "contour"
           }
          ],
          "contourcarpet": [
           {
            "colorbar": {
             "outlinewidth": 0,
             "ticks": ""
            },
            "type": "contourcarpet"
           }
          ],
          "heatmap": [
           {
            "colorbar": {
             "outlinewidth": 0,
             "ticks": ""
            },
            "colorscale": [
             [
              0,
              "#0d0887"
             ],
             [
              0.1111111111111111,
              "#46039f"
             ],
             [
              0.2222222222222222,
              "#7201a8"
             ],
             [
              0.3333333333333333,
              "#9c179e"
             ],
             [
              0.4444444444444444,
              "#bd3786"
             ],
             [
              0.5555555555555556,
              "#d8576b"
             ],
             [
              0.6666666666666666,
              "#ed7953"
             ],
             [
              0.7777777777777778,
              "#fb9f3a"
             ],
             [
              0.8888888888888888,
              "#fdca26"
             ],
             [
              1,
              "#f0f921"
             ]
            ],
            "type": "heatmap"
           }
          ],
          "heatmapgl": [
           {
            "colorbar": {
             "outlinewidth": 0,
             "ticks": ""
            },
            "colorscale": [
             [
              0,
              "#0d0887"
             ],
             [
              0.1111111111111111,
              "#46039f"
             ],
             [
              0.2222222222222222,
              "#7201a8"
             ],
             [
              0.3333333333333333,
              "#9c179e"
             ],
             [
              0.4444444444444444,
              "#bd3786"
             ],
             [
              0.5555555555555556,
              "#d8576b"
             ],
             [
              0.6666666666666666,
              "#ed7953"
             ],
             [
              0.7777777777777778,
              "#fb9f3a"
             ],
             [
              0.8888888888888888,
              "#fdca26"
             ],
             [
              1,
              "#f0f921"
             ]
            ],
            "type": "heatmapgl"
           }
          ],
          "histogram": [
           {
            "marker": {
             "pattern": {
              "fillmode": "overlay",
              "size": 10,
              "solidity": 0.2
             }
            },
            "type": "histogram"
           }
          ],
          "histogram2d": [
           {
            "colorbar": {
             "outlinewidth": 0,
             "ticks": ""
            },
            "colorscale": [
             [
              0,
              "#0d0887"
             ],
             [
              0.1111111111111111,
              "#46039f"
             ],
             [
              0.2222222222222222,
              "#7201a8"
             ],
             [
              0.3333333333333333,
              "#9c179e"
             ],
             [
              0.4444444444444444,
              "#bd3786"
             ],
             [
              0.5555555555555556,
              "#d8576b"
             ],
             [
              0.6666666666666666,
              "#ed7953"
             ],
             [
              0.7777777777777778,
              "#fb9f3a"
             ],
             [
              0.8888888888888888,
              "#fdca26"
             ],
             [
              1,
              "#f0f921"
             ]
            ],
            "type": "histogram2d"
           }
          ],
          "histogram2dcontour": [
           {
            "colorbar": {
             "outlinewidth": 0,
             "ticks": ""
            },
            "colorscale": [
             [
              0,
              "#0d0887"
             ],
             [
              0.1111111111111111,
              "#46039f"
             ],
             [
              0.2222222222222222,
              "#7201a8"
             ],
             [
              0.3333333333333333,
              "#9c179e"
             ],
             [
              0.4444444444444444,
              "#bd3786"
             ],
             [
              0.5555555555555556,
              "#d8576b"
             ],
             [
              0.6666666666666666,
              "#ed7953"
             ],
             [
              0.7777777777777778,
              "#fb9f3a"
             ],
             [
              0.8888888888888888,
              "#fdca26"
             ],
             [
              1,
              "#f0f921"
             ]
            ],
            "type": "histogram2dcontour"
           }
          ],
          "mesh3d": [
           {
            "colorbar": {
             "outlinewidth": 0,
             "ticks": ""
            },
            "type": "mesh3d"
           }
          ],
          "parcoords": [
           {
            "line": {
             "colorbar": {
              "outlinewidth": 0,
              "ticks": ""
             }
            },
            "type": "parcoords"
           }
          ],
          "pie": [
           {
            "automargin": true,
            "type": "pie"
           }
          ],
          "scatter": [
           {
            "fillpattern": {
             "fillmode": "overlay",
             "size": 10,
             "solidity": 0.2
            },
            "type": "scatter"
           }
          ],
          "scatter3d": [
           {
            "line": {
             "colorbar": {
              "outlinewidth": 0,
              "ticks": ""
             }
            },
            "marker": {
             "colorbar": {
              "outlinewidth": 0,
              "ticks": ""
             }
            },
            "type": "scatter3d"
           }
          ],
          "scattercarpet": [
           {
            "marker": {
             "colorbar": {
              "outlinewidth": 0,
              "ticks": ""
             }
            },
            "type": "scattercarpet"
           }
          ],
          "scattergeo": [
           {
            "marker": {
             "colorbar": {
              "outlinewidth": 0,
              "ticks": ""
             }
            },
            "type": "scattergeo"
           }
          ],
          "scattergl": [
           {
            "marker": {
             "colorbar": {
              "outlinewidth": 0,
              "ticks": ""
             }
            },
            "type": "scattergl"
           }
          ],
          "scattermapbox": [
           {
            "marker": {
             "colorbar": {
              "outlinewidth": 0,
              "ticks": ""
             }
            },
            "type": "scattermapbox"
           }
          ],
          "scatterpolar": [
           {
            "marker": {
             "colorbar": {
              "outlinewidth": 0,
              "ticks": ""
             }
            },
            "type": "scatterpolar"
           }
          ],
          "scatterpolargl": [
           {
            "marker": {
             "colorbar": {
              "outlinewidth": 0,
              "ticks": ""
             }
            },
            "type": "scatterpolargl"
           }
          ],
          "scatterternary": [
           {
            "marker": {
             "colorbar": {
              "outlinewidth": 0,
              "ticks": ""
             }
            },
            "type": "scatterternary"
           }
          ],
          "surface": [
           {
            "colorbar": {
             "outlinewidth": 0,
             "ticks": ""
            },
            "colorscale": [
             [
              0,
              "#0d0887"
             ],
             [
              0.1111111111111111,
              "#46039f"
             ],
             [
              0.2222222222222222,
              "#7201a8"
             ],
             [
              0.3333333333333333,
              "#9c179e"
             ],
             [
              0.4444444444444444,
              "#bd3786"
             ],
             [
              0.5555555555555556,
              "#d8576b"
             ],
             [
              0.6666666666666666,
              "#ed7953"
             ],
             [
              0.7777777777777778,
              "#fb9f3a"
             ],
             [
              0.8888888888888888,
              "#fdca26"
             ],
             [
              1,
              "#f0f921"
             ]
            ],
            "type": "surface"
           }
          ],
          "table": [
           {
            "cells": {
             "fill": {
              "color": "#EBF0F8"
             },
             "line": {
              "color": "white"
             }
            },
            "header": {
             "fill": {
              "color": "#C8D4E3"
             },
             "line": {
              "color": "white"
             }
            },
            "type": "table"
           }
          ]
         },
         "layout": {
          "annotationdefaults": {
           "arrowcolor": "#2a3f5f",
           "arrowhead": 0,
           "arrowwidth": 1
          },
          "autotypenumbers": "strict",
          "coloraxis": {
           "colorbar": {
            "outlinewidth": 0,
            "ticks": ""
           }
          },
          "colorscale": {
           "diverging": [
            [
             0,
             "#8e0152"
            ],
            [
             0.1,
             "#c51b7d"
            ],
            [
             0.2,
             "#de77ae"
            ],
            [
             0.3,
             "#f1b6da"
            ],
            [
             0.4,
             "#fde0ef"
            ],
            [
             0.5,
             "#f7f7f7"
            ],
            [
             0.6,
             "#e6f5d0"
            ],
            [
             0.7,
             "#b8e186"
            ],
            [
             0.8,
             "#7fbc41"
            ],
            [
             0.9,
             "#4d9221"
            ],
            [
             1,
             "#276419"
            ]
           ],
           "sequential": [
            [
             0,
             "#0d0887"
            ],
            [
             0.1111111111111111,
             "#46039f"
            ],
            [
             0.2222222222222222,
             "#7201a8"
            ],
            [
             0.3333333333333333,
             "#9c179e"
            ],
            [
             0.4444444444444444,
             "#bd3786"
            ],
            [
             0.5555555555555556,
             "#d8576b"
            ],
            [
             0.6666666666666666,
             "#ed7953"
            ],
            [
             0.7777777777777778,
             "#fb9f3a"
            ],
            [
             0.8888888888888888,
             "#fdca26"
            ],
            [
             1,
             "#f0f921"
            ]
           ],
           "sequentialminus": [
            [
             0,
             "#0d0887"
            ],
            [
             0.1111111111111111,
             "#46039f"
            ],
            [
             0.2222222222222222,
             "#7201a8"
            ],
            [
             0.3333333333333333,
             "#9c179e"
            ],
            [
             0.4444444444444444,
             "#bd3786"
            ],
            [
             0.5555555555555556,
             "#d8576b"
            ],
            [
             0.6666666666666666,
             "#ed7953"
            ],
            [
             0.7777777777777778,
             "#fb9f3a"
            ],
            [
             0.8888888888888888,
             "#fdca26"
            ],
            [
             1,
             "#f0f921"
            ]
           ]
          },
          "colorway": [
           "#636efa",
           "#EF553B",
           "#00cc96",
           "#ab63fa",
           "#FFA15A",
           "#19d3f3",
           "#FF6692",
           "#B6E880",
           "#FF97FF",
           "#FECB52"
          ],
          "font": {
           "color": "#2a3f5f"
          },
          "geo": {
           "bgcolor": "white",
           "lakecolor": "white",
           "landcolor": "#E5ECF6",
           "showlakes": true,
           "showland": true,
           "subunitcolor": "white"
          },
          "hoverlabel": {
           "align": "left"
          },
          "hovermode": "closest",
          "mapbox": {
           "style": "light"
          },
          "paper_bgcolor": "white",
          "plot_bgcolor": "#E5ECF6",
          "polar": {
           "angularaxis": {
            "gridcolor": "white",
            "linecolor": "white",
            "ticks": ""
           },
           "bgcolor": "#E5ECF6",
           "radialaxis": {
            "gridcolor": "white",
            "linecolor": "white",
            "ticks": ""
           }
          },
          "scene": {
           "xaxis": {
            "backgroundcolor": "#E5ECF6",
            "gridcolor": "white",
            "gridwidth": 2,
            "linecolor": "white",
            "showbackground": true,
            "ticks": "",
            "zerolinecolor": "white"
           },
           "yaxis": {
            "backgroundcolor": "#E5ECF6",
            "gridcolor": "white",
            "gridwidth": 2,
            "linecolor": "white",
            "showbackground": true,
            "ticks": "",
            "zerolinecolor": "white"
           },
           "zaxis": {
            "backgroundcolor": "#E5ECF6",
            "gridcolor": "white",
            "gridwidth": 2,
            "linecolor": "white",
            "showbackground": true,
            "ticks": "",
            "zerolinecolor": "white"
           }
          },
          "shapedefaults": {
           "line": {
            "color": "#2a3f5f"
           }
          },
          "ternary": {
           "aaxis": {
            "gridcolor": "white",
            "linecolor": "white",
            "ticks": ""
           },
           "baxis": {
            "gridcolor": "white",
            "linecolor": "white",
            "ticks": ""
           },
           "bgcolor": "#E5ECF6",
           "caxis": {
            "gridcolor": "white",
            "linecolor": "white",
            "ticks": ""
           }
          },
          "title": {
           "x": 0.05
          },
          "xaxis": {
           "automargin": true,
           "gridcolor": "white",
           "linecolor": "white",
           "ticks": "",
           "title": {
            "standoff": 15
           },
           "zerolinecolor": "white",
           "zerolinewidth": 2
          },
          "yaxis": {
           "automargin": true,
           "gridcolor": "white",
           "linecolor": "white",
           "ticks": "",
           "title": {
            "standoff": 15
           },
           "zerolinecolor": "white",
           "zerolinewidth": 2
          }
         }
        },
        "title": {
         "text": "Correlation Heatmap"
        }
       }
      }
     },
     "metadata": {},
     "output_type": "display_data"
    },
    {
     "data": {
      "application/vnd.plotly.v1+json": {
       "config": {
        "plotlyServerURL": "https://plot.ly"
       },
       "data": [
        {
         "hovertemplate": "Predicted Values=%{x}<br>Residuals=%{y}<extra></extra>",
         "legendgroup": "",
         "marker": {
          "color": "#636efa",
          "symbol": "circle"
         },
         "mode": "markers",
         "name": "",
         "orientation": "v",
         "showlegend": false,
         "type": "scatter",
         "x": [
          3.5201170326431623,
          3.147664419312241,
          3.8597602595726332,
          2.6911056516225766,
          3.0595913007528535,
          3.1983911060765022,
          3.339671231539582,
          2.9569133014792808,
          3.5603670014739364,
          3.6399216473583453,
          2.350131318373737,
          3.689334161733863,
          2.883968505262685,
          2.461199532609913,
          3.132129598550257,
          3.281142787104169,
          3.020403722185518,
          3.7926099409799976,
          3.18453635781955,
          2.680416189160325,
          2.4153115776879606
         ],
         "xaxis": "x",
         "y": [
          0.09988296735683777,
          -0.13766441931224138,
          -0.14976025957263328,
          -0.31110565162257675,
          0.1304086992471465,
          -0.028391106076502304,
          0.07032876846041836,
          0.1230866985207193,
          0.029632998526063492,
          -0.11992164735834532,
          -0.1001313183737369,
          -0.08933416173386277,
          0.11603149473731511,
          -0.12119953260991334,
          0.06787040144974332,
          0.18885721289583124,
          0.14959627781448193,
          -0.03260994097999781,
          0.0054636421804499236,
          -0.28041618916032496,
          -0.3353115776879605
         ],
         "yaxis": "y"
        }
       ],
       "layout": {
        "legend": {
         "tracegroupgap": 0
        },
        "shapes": [
         {
          "line": {
           "color": "red",
           "dash": "dash"
          },
          "type": "line",
          "x0": 0,
          "x1": 1,
          "xref": "x domain",
          "y0": 0,
          "y1": 0,
          "yref": "y"
         }
        ],
        "template": {
         "data": {
          "bar": [
           {
            "error_x": {
             "color": "#2a3f5f"
            },
            "error_y": {
             "color": "#2a3f5f"
            },
            "marker": {
             "line": {
              "color": "#E5ECF6",
              "width": 0.5
             },
             "pattern": {
              "fillmode": "overlay",
              "size": 10,
              "solidity": 0.2
             }
            },
            "type": "bar"
           }
          ],
          "barpolar": [
           {
            "marker": {
             "line": {
              "color": "#E5ECF6",
              "width": 0.5
             },
             "pattern": {
              "fillmode": "overlay",
              "size": 10,
              "solidity": 0.2
             }
            },
            "type": "barpolar"
           }
          ],
          "carpet": [
           {
            "aaxis": {
             "endlinecolor": "#2a3f5f",
             "gridcolor": "white",
             "linecolor": "white",
             "minorgridcolor": "white",
             "startlinecolor": "#2a3f5f"
            },
            "baxis": {
             "endlinecolor": "#2a3f5f",
             "gridcolor": "white",
             "linecolor": "white",
             "minorgridcolor": "white",
             "startlinecolor": "#2a3f5f"
            },
            "type": "carpet"
           }
          ],
          "choropleth": [
           {
            "colorbar": {
             "outlinewidth": 0,
             "ticks": ""
            },
            "type": "choropleth"
           }
          ],
          "contour": [
           {
            "colorbar": {
             "outlinewidth": 0,
             "ticks": ""
            },
            "colorscale": [
             [
              0,
              "#0d0887"
             ],
             [
              0.1111111111111111,
              "#46039f"
             ],
             [
              0.2222222222222222,
              "#7201a8"
             ],
             [
              0.3333333333333333,
              "#9c179e"
             ],
             [
              0.4444444444444444,
              "#bd3786"
             ],
             [
              0.5555555555555556,
              "#d8576b"
             ],
             [
              0.6666666666666666,
              "#ed7953"
             ],
             [
              0.7777777777777778,
              "#fb9f3a"
             ],
             [
              0.8888888888888888,
              "#fdca26"
             ],
             [
              1,
              "#f0f921"
             ]
            ],
            "type": "contour"
           }
          ],
          "contourcarpet": [
           {
            "colorbar": {
             "outlinewidth": 0,
             "ticks": ""
            },
            "type": "contourcarpet"
           }
          ],
          "heatmap": [
           {
            "colorbar": {
             "outlinewidth": 0,
             "ticks": ""
            },
            "colorscale": [
             [
              0,
              "#0d0887"
             ],
             [
              0.1111111111111111,
              "#46039f"
             ],
             [
              0.2222222222222222,
              "#7201a8"
             ],
             [
              0.3333333333333333,
              "#9c179e"
             ],
             [
              0.4444444444444444,
              "#bd3786"
             ],
             [
              0.5555555555555556,
              "#d8576b"
             ],
             [
              0.6666666666666666,
              "#ed7953"
             ],
             [
              0.7777777777777778,
              "#fb9f3a"
             ],
             [
              0.8888888888888888,
              "#fdca26"
             ],
             [
              1,
              "#f0f921"
             ]
            ],
            "type": "heatmap"
           }
          ],
          "heatmapgl": [
           {
            "colorbar": {
             "outlinewidth": 0,
             "ticks": ""
            },
            "colorscale": [
             [
              0,
              "#0d0887"
             ],
             [
              0.1111111111111111,
              "#46039f"
             ],
             [
              0.2222222222222222,
              "#7201a8"
             ],
             [
              0.3333333333333333,
              "#9c179e"
             ],
             [
              0.4444444444444444,
              "#bd3786"
             ],
             [
              0.5555555555555556,
              "#d8576b"
             ],
             [
              0.6666666666666666,
              "#ed7953"
             ],
             [
              0.7777777777777778,
              "#fb9f3a"
             ],
             [
              0.8888888888888888,
              "#fdca26"
             ],
             [
              1,
              "#f0f921"
             ]
            ],
            "type": "heatmapgl"
           }
          ],
          "histogram": [
           {
            "marker": {
             "pattern": {
              "fillmode": "overlay",
              "size": 10,
              "solidity": 0.2
             }
            },
            "type": "histogram"
           }
          ],
          "histogram2d": [
           {
            "colorbar": {
             "outlinewidth": 0,
             "ticks": ""
            },
            "colorscale": [
             [
              0,
              "#0d0887"
             ],
             [
              0.1111111111111111,
              "#46039f"
             ],
             [
              0.2222222222222222,
              "#7201a8"
             ],
             [
              0.3333333333333333,
              "#9c179e"
             ],
             [
              0.4444444444444444,
              "#bd3786"
             ],
             [
              0.5555555555555556,
              "#d8576b"
             ],
             [
              0.6666666666666666,
              "#ed7953"
             ],
             [
              0.7777777777777778,
              "#fb9f3a"
             ],
             [
              0.8888888888888888,
              "#fdca26"
             ],
             [
              1,
              "#f0f921"
             ]
            ],
            "type": "histogram2d"
           }
          ],
          "histogram2dcontour": [
           {
            "colorbar": {
             "outlinewidth": 0,
             "ticks": ""
            },
            "colorscale": [
             [
              0,
              "#0d0887"
             ],
             [
              0.1111111111111111,
              "#46039f"
             ],
             [
              0.2222222222222222,
              "#7201a8"
             ],
             [
              0.3333333333333333,
              "#9c179e"
             ],
             [
              0.4444444444444444,
              "#bd3786"
             ],
             [
              0.5555555555555556,
              "#d8576b"
             ],
             [
              0.6666666666666666,
              "#ed7953"
             ],
             [
              0.7777777777777778,
              "#fb9f3a"
             ],
             [
              0.8888888888888888,
              "#fdca26"
             ],
             [
              1,
              "#f0f921"
             ]
            ],
            "type": "histogram2dcontour"
           }
          ],
          "mesh3d": [
           {
            "colorbar": {
             "outlinewidth": 0,
             "ticks": ""
            },
            "type": "mesh3d"
           }
          ],
          "parcoords": [
           {
            "line": {
             "colorbar": {
              "outlinewidth": 0,
              "ticks": ""
             }
            },
            "type": "parcoords"
           }
          ],
          "pie": [
           {
            "automargin": true,
            "type": "pie"
           }
          ],
          "scatter": [
           {
            "fillpattern": {
             "fillmode": "overlay",
             "size": 10,
             "solidity": 0.2
            },
            "type": "scatter"
           }
          ],
          "scatter3d": [
           {
            "line": {
             "colorbar": {
              "outlinewidth": 0,
              "ticks": ""
             }
            },
            "marker": {
             "colorbar": {
              "outlinewidth": 0,
              "ticks": ""
             }
            },
            "type": "scatter3d"
           }
          ],
          "scattercarpet": [
           {
            "marker": {
             "colorbar": {
              "outlinewidth": 0,
              "ticks": ""
             }
            },
            "type": "scattercarpet"
           }
          ],
          "scattergeo": [
           {
            "marker": {
             "colorbar": {
              "outlinewidth": 0,
              "ticks": ""
             }
            },
            "type": "scattergeo"
           }
          ],
          "scattergl": [
           {
            "marker": {
             "colorbar": {
              "outlinewidth": 0,
              "ticks": ""
             }
            },
            "type": "scattergl"
           }
          ],
          "scattermapbox": [
           {
            "marker": {
             "colorbar": {
              "outlinewidth": 0,
              "ticks": ""
             }
            },
            "type": "scattermapbox"
           }
          ],
          "scatterpolar": [
           {
            "marker": {
             "colorbar": {
              "outlinewidth": 0,
              "ticks": ""
             }
            },
            "type": "scatterpolar"
           }
          ],
          "scatterpolargl": [
           {
            "marker": {
             "colorbar": {
              "outlinewidth": 0,
              "ticks": ""
             }
            },
            "type": "scatterpolargl"
           }
          ],
          "scatterternary": [
           {
            "marker": {
             "colorbar": {
              "outlinewidth": 0,
              "ticks": ""
             }
            },
            "type": "scatterternary"
           }
          ],
          "surface": [
           {
            "colorbar": {
             "outlinewidth": 0,
             "ticks": ""
            },
            "colorscale": [
             [
              0,
              "#0d0887"
             ],
             [
              0.1111111111111111,
              "#46039f"
             ],
             [
              0.2222222222222222,
              "#7201a8"
             ],
             [
              0.3333333333333333,
              "#9c179e"
             ],
             [
              0.4444444444444444,
              "#bd3786"
             ],
             [
              0.5555555555555556,
              "#d8576b"
             ],
             [
              0.6666666666666666,
              "#ed7953"
             ],
             [
              0.7777777777777778,
              "#fb9f3a"
             ],
             [
              0.8888888888888888,
              "#fdca26"
             ],
             [
              1,
              "#f0f921"
             ]
            ],
            "type": "surface"
           }
          ],
          "table": [
           {
            "cells": {
             "fill": {
              "color": "#EBF0F8"
             },
             "line": {
              "color": "white"
             }
            },
            "header": {
             "fill": {
              "color": "#C8D4E3"
             },
             "line": {
              "color": "white"
             }
            },
            "type": "table"
           }
          ]
         },
         "layout": {
          "annotationdefaults": {
           "arrowcolor": "#2a3f5f",
           "arrowhead": 0,
           "arrowwidth": 1
          },
          "autotypenumbers": "strict",
          "coloraxis": {
           "colorbar": {
            "outlinewidth": 0,
            "ticks": ""
           }
          },
          "colorscale": {
           "diverging": [
            [
             0,
             "#8e0152"
            ],
            [
             0.1,
             "#c51b7d"
            ],
            [
             0.2,
             "#de77ae"
            ],
            [
             0.3,
             "#f1b6da"
            ],
            [
             0.4,
             "#fde0ef"
            ],
            [
             0.5,
             "#f7f7f7"
            ],
            [
             0.6,
             "#e6f5d0"
            ],
            [
             0.7,
             "#b8e186"
            ],
            [
             0.8,
             "#7fbc41"
            ],
            [
             0.9,
             "#4d9221"
            ],
            [
             1,
             "#276419"
            ]
           ],
           "sequential": [
            [
             0,
             "#0d0887"
            ],
            [
             0.1111111111111111,
             "#46039f"
            ],
            [
             0.2222222222222222,
             "#7201a8"
            ],
            [
             0.3333333333333333,
             "#9c179e"
            ],
            [
             0.4444444444444444,
             "#bd3786"
            ],
            [
             0.5555555555555556,
             "#d8576b"
            ],
            [
             0.6666666666666666,
             "#ed7953"
            ],
            [
             0.7777777777777778,
             "#fb9f3a"
            ],
            [
             0.8888888888888888,
             "#fdca26"
            ],
            [
             1,
             "#f0f921"
            ]
           ],
           "sequentialminus": [
            [
             0,
             "#0d0887"
            ],
            [
             0.1111111111111111,
             "#46039f"
            ],
            [
             0.2222222222222222,
             "#7201a8"
            ],
            [
             0.3333333333333333,
             "#9c179e"
            ],
            [
             0.4444444444444444,
             "#bd3786"
            ],
            [
             0.5555555555555556,
             "#d8576b"
            ],
            [
             0.6666666666666666,
             "#ed7953"
            ],
            [
             0.7777777777777778,
             "#fb9f3a"
            ],
            [
             0.8888888888888888,
             "#fdca26"
            ],
            [
             1,
             "#f0f921"
            ]
           ]
          },
          "colorway": [
           "#636efa",
           "#EF553B",
           "#00cc96",
           "#ab63fa",
           "#FFA15A",
           "#19d3f3",
           "#FF6692",
           "#B6E880",
           "#FF97FF",
           "#FECB52"
          ],
          "font": {
           "color": "#2a3f5f"
          },
          "geo": {
           "bgcolor": "white",
           "lakecolor": "white",
           "landcolor": "#E5ECF6",
           "showlakes": true,
           "showland": true,
           "subunitcolor": "white"
          },
          "hoverlabel": {
           "align": "left"
          },
          "hovermode": "closest",
          "mapbox": {
           "style": "light"
          },
          "paper_bgcolor": "white",
          "plot_bgcolor": "#E5ECF6",
          "polar": {
           "angularaxis": {
            "gridcolor": "white",
            "linecolor": "white",
            "ticks": ""
           },
           "bgcolor": "#E5ECF6",
           "radialaxis": {
            "gridcolor": "white",
            "linecolor": "white",
            "ticks": ""
           }
          },
          "scene": {
           "xaxis": {
            "backgroundcolor": "#E5ECF6",
            "gridcolor": "white",
            "gridwidth": 2,
            "linecolor": "white",
            "showbackground": true,
            "ticks": "",
            "zerolinecolor": "white"
           },
           "yaxis": {
            "backgroundcolor": "#E5ECF6",
            "gridcolor": "white",
            "gridwidth": 2,
            "linecolor": "white",
            "showbackground": true,
            "ticks": "",
            "zerolinecolor": "white"
           },
           "zaxis": {
            "backgroundcolor": "#E5ECF6",
            "gridcolor": "white",
            "gridwidth": 2,
            "linecolor": "white",
            "showbackground": true,
            "ticks": "",
            "zerolinecolor": "white"
           }
          },
          "shapedefaults": {
           "line": {
            "color": "#2a3f5f"
           }
          },
          "ternary": {
           "aaxis": {
            "gridcolor": "white",
            "linecolor": "white",
            "ticks": ""
           },
           "baxis": {
            "gridcolor": "white",
            "linecolor": "white",
            "ticks": ""
           },
           "bgcolor": "#E5ECF6",
           "caxis": {
            "gridcolor": "white",
            "linecolor": "white",
            "ticks": ""
           }
          },
          "title": {
           "x": 0.05
          },
          "xaxis": {
           "automargin": true,
           "gridcolor": "white",
           "linecolor": "white",
           "ticks": "",
           "title": {
            "standoff": 15
           },
           "zerolinecolor": "white",
           "zerolinewidth": 2
          },
          "yaxis": {
           "automargin": true,
           "gridcolor": "white",
           "linecolor": "white",
           "ticks": "",
           "title": {
            "standoff": 15
           },
           "zerolinecolor": "white",
           "zerolinewidth": 2
          }
         }
        },
        "title": {
         "text": "Residual Plot"
        },
        "xaxis": {
         "anchor": "y",
         "domain": [
          0,
          1
         ],
         "title": {
          "text": "Predicted Values"
         }
        },
        "yaxis": {
         "anchor": "x",
         "domain": [
          0,
          1
         ],
         "title": {
          "text": "Residuals"
         }
        }
       }
      }
     },
     "metadata": {},
     "output_type": "display_data"
    },
    {
     "data": {
      "application/vnd.plotly.v1+json": {
       "config": {
        "plotlyServerURL": "https://plot.ly"
       },
       "data": [
        {
         "hovertemplate": "Theoretical Quantiles=%{x}<br>Sample Quantiles=%{y}<extra></extra>",
         "legendgroup": "",
         "marker": {
          "color": "#636efa",
          "symbol": "circle"
         },
         "mode": "markers",
         "name": "",
         "orientation": "v",
         "showlegend": false,
         "type": "scatter",
         "x": [
          -1.8456954176375633,
          -1.413527828003424,
          -1.1476535079386723,
          -0.944875037012303,
          -0.7750100460366088,
          -0.6250400549519733,
          -0.4879915652153254,
          -0.3595724866751682,
          -0.2368438809591467,
          -0.11759451158074337,
          0,
          0.11759451158074351,
          0.23684388095914657,
          0.35957248667516833,
          0.4879915652153256,
          0.6250400549519733,
          0.7750100460366094,
          0.9448750370123035,
          1.1476535079386727,
          1.4135278280034247,
          1.8456954176375633
         ],
         "xaxis": "x",
         "y": [
          -0.3353115776879605,
          -0.31110565162257675,
          -0.28041618916032496,
          -0.14976025957263328,
          -0.13766441931224138,
          -0.12119953260991334,
          -0.11992164735834532,
          -0.1001313183737369,
          -0.08933416173386277,
          -0.03260994097999781,
          -0.028391106076502304,
          0.0054636421804499236,
          0.029632998526063492,
          0.06787040144974332,
          0.07032876846041836,
          0.09988296735683777,
          0.11603149473731511,
          0.1230866985207193,
          0.1304086992471465,
          0.14959627781448193,
          0.18885721289583124
         ],
         "yaxis": "y"
        },
        {
         "line": {
          "color": "red",
          "dash": "dash"
         },
         "mode": "lines",
         "type": "scatter",
         "x": [
          -1.8456954176375633,
          -1.413527828003424,
          -1.1476535079386723,
          -0.944875037012303,
          -0.7750100460366088,
          -0.6250400549519733,
          -0.4879915652153254,
          -0.3595724866751682,
          -0.2368438809591467,
          -0.11759451158074337,
          0,
          0.11759451158074351,
          0.23684388095914657,
          0.35957248667516833,
          0.4879915652153256,
          0.6250400549519733,
          0.7750100460366094,
          0.9448750370123035,
          1.1476535079386727,
          1.4135278280034247,
          1.8456954176375633
         ],
         "y": [
          -1.8456954176375633,
          -1.413527828003424,
          -1.1476535079386723,
          -0.944875037012303,
          -0.7750100460366088,
          -0.6250400549519733,
          -0.4879915652153254,
          -0.3595724866751682,
          -0.2368438809591467,
          -0.11759451158074337,
          0,
          0.11759451158074351,
          0.23684388095914657,
          0.35957248667516833,
          0.4879915652153256,
          0.6250400549519733,
          0.7750100460366094,
          0.9448750370123035,
          1.1476535079386727,
          1.4135278280034247,
          1.8456954176375633
         ]
        }
       ],
       "layout": {
        "legend": {
         "tracegroupgap": 0
        },
        "template": {
         "data": {
          "bar": [
           {
            "error_x": {
             "color": "#2a3f5f"
            },
            "error_y": {
             "color": "#2a3f5f"
            },
            "marker": {
             "line": {
              "color": "#E5ECF6",
              "width": 0.5
             },
             "pattern": {
              "fillmode": "overlay",
              "size": 10,
              "solidity": 0.2
             }
            },
            "type": "bar"
           }
          ],
          "barpolar": [
           {
            "marker": {
             "line": {
              "color": "#E5ECF6",
              "width": 0.5
             },
             "pattern": {
              "fillmode": "overlay",
              "size": 10,
              "solidity": 0.2
             }
            },
            "type": "barpolar"
           }
          ],
          "carpet": [
           {
            "aaxis": {
             "endlinecolor": "#2a3f5f",
             "gridcolor": "white",
             "linecolor": "white",
             "minorgridcolor": "white",
             "startlinecolor": "#2a3f5f"
            },
            "baxis": {
             "endlinecolor": "#2a3f5f",
             "gridcolor": "white",
             "linecolor": "white",
             "minorgridcolor": "white",
             "startlinecolor": "#2a3f5f"
            },
            "type": "carpet"
           }
          ],
          "choropleth": [
           {
            "colorbar": {
             "outlinewidth": 0,
             "ticks": ""
            },
            "type": "choropleth"
           }
          ],
          "contour": [
           {
            "colorbar": {
             "outlinewidth": 0,
             "ticks": ""
            },
            "colorscale": [
             [
              0,
              "#0d0887"
             ],
             [
              0.1111111111111111,
              "#46039f"
             ],
             [
              0.2222222222222222,
              "#7201a8"
             ],
             [
              0.3333333333333333,
              "#9c179e"
             ],
             [
              0.4444444444444444,
              "#bd3786"
             ],
             [
              0.5555555555555556,
              "#d8576b"
             ],
             [
              0.6666666666666666,
              "#ed7953"
             ],
             [
              0.7777777777777778,
              "#fb9f3a"
             ],
             [
              0.8888888888888888,
              "#fdca26"
             ],
             [
              1,
              "#f0f921"
             ]
            ],
            "type": "contour"
           }
          ],
          "contourcarpet": [
           {
            "colorbar": {
             "outlinewidth": 0,
             "ticks": ""
            },
            "type": "contourcarpet"
           }
          ],
          "heatmap": [
           {
            "colorbar": {
             "outlinewidth": 0,
             "ticks": ""
            },
            "colorscale": [
             [
              0,
              "#0d0887"
             ],
             [
              0.1111111111111111,
              "#46039f"
             ],
             [
              0.2222222222222222,
              "#7201a8"
             ],
             [
              0.3333333333333333,
              "#9c179e"
             ],
             [
              0.4444444444444444,
              "#bd3786"
             ],
             [
              0.5555555555555556,
              "#d8576b"
             ],
             [
              0.6666666666666666,
              "#ed7953"
             ],
             [
              0.7777777777777778,
              "#fb9f3a"
             ],
             [
              0.8888888888888888,
              "#fdca26"
             ],
             [
              1,
              "#f0f921"
             ]
            ],
            "type": "heatmap"
           }
          ],
          "heatmapgl": [
           {
            "colorbar": {
             "outlinewidth": 0,
             "ticks": ""
            },
            "colorscale": [
             [
              0,
              "#0d0887"
             ],
             [
              0.1111111111111111,
              "#46039f"
             ],
             [
              0.2222222222222222,
              "#7201a8"
             ],
             [
              0.3333333333333333,
              "#9c179e"
             ],
             [
              0.4444444444444444,
              "#bd3786"
             ],
             [
              0.5555555555555556,
              "#d8576b"
             ],
             [
              0.6666666666666666,
              "#ed7953"
             ],
             [
              0.7777777777777778,
              "#fb9f3a"
             ],
             [
              0.8888888888888888,
              "#fdca26"
             ],
             [
              1,
              "#f0f921"
             ]
            ],
            "type": "heatmapgl"
           }
          ],
          "histogram": [
           {
            "marker": {
             "pattern": {
              "fillmode": "overlay",
              "size": 10,
              "solidity": 0.2
             }
            },
            "type": "histogram"
           }
          ],
          "histogram2d": [
           {
            "colorbar": {
             "outlinewidth": 0,
             "ticks": ""
            },
            "colorscale": [
             [
              0,
              "#0d0887"
             ],
             [
              0.1111111111111111,
              "#46039f"
             ],
             [
              0.2222222222222222,
              "#7201a8"
             ],
             [
              0.3333333333333333,
              "#9c179e"
             ],
             [
              0.4444444444444444,
              "#bd3786"
             ],
             [
              0.5555555555555556,
              "#d8576b"
             ],
             [
              0.6666666666666666,
              "#ed7953"
             ],
             [
              0.7777777777777778,
              "#fb9f3a"
             ],
             [
              0.8888888888888888,
              "#fdca26"
             ],
             [
              1,
              "#f0f921"
             ]
            ],
            "type": "histogram2d"
           }
          ],
          "histogram2dcontour": [
           {
            "colorbar": {
             "outlinewidth": 0,
             "ticks": ""
            },
            "colorscale": [
             [
              0,
              "#0d0887"
             ],
             [
              0.1111111111111111,
              "#46039f"
             ],
             [
              0.2222222222222222,
              "#7201a8"
             ],
             [
              0.3333333333333333,
              "#9c179e"
             ],
             [
              0.4444444444444444,
              "#bd3786"
             ],
             [
              0.5555555555555556,
              "#d8576b"
             ],
             [
              0.6666666666666666,
              "#ed7953"
             ],
             [
              0.7777777777777778,
              "#fb9f3a"
             ],
             [
              0.8888888888888888,
              "#fdca26"
             ],
             [
              1,
              "#f0f921"
             ]
            ],
            "type": "histogram2dcontour"
           }
          ],
          "mesh3d": [
           {
            "colorbar": {
             "outlinewidth": 0,
             "ticks": ""
            },
            "type": "mesh3d"
           }
          ],
          "parcoords": [
           {
            "line": {
             "colorbar": {
              "outlinewidth": 0,
              "ticks": ""
             }
            },
            "type": "parcoords"
           }
          ],
          "pie": [
           {
            "automargin": true,
            "type": "pie"
           }
          ],
          "scatter": [
           {
            "fillpattern": {
             "fillmode": "overlay",
             "size": 10,
             "solidity": 0.2
            },
            "type": "scatter"
           }
          ],
          "scatter3d": [
           {
            "line": {
             "colorbar": {
              "outlinewidth": 0,
              "ticks": ""
             }
            },
            "marker": {
             "colorbar": {
              "outlinewidth": 0,
              "ticks": ""
             }
            },
            "type": "scatter3d"
           }
          ],
          "scattercarpet": [
           {
            "marker": {
             "colorbar": {
              "outlinewidth": 0,
              "ticks": ""
             }
            },
            "type": "scattercarpet"
           }
          ],
          "scattergeo": [
           {
            "marker": {
             "colorbar": {
              "outlinewidth": 0,
              "ticks": ""
             }
            },
            "type": "scattergeo"
           }
          ],
          "scattergl": [
           {
            "marker": {
             "colorbar": {
              "outlinewidth": 0,
              "ticks": ""
             }
            },
            "type": "scattergl"
           }
          ],
          "scattermapbox": [
           {
            "marker": {
             "colorbar": {
              "outlinewidth": 0,
              "ticks": ""
             }
            },
            "type": "scattermapbox"
           }
          ],
          "scatterpolar": [
           {
            "marker": {
             "colorbar": {
              "outlinewidth": 0,
              "ticks": ""
             }
            },
            "type": "scatterpolar"
           }
          ],
          "scatterpolargl": [
           {
            "marker": {
             "colorbar": {
              "outlinewidth": 0,
              "ticks": ""
             }
            },
            "type": "scatterpolargl"
           }
          ],
          "scatterternary": [
           {
            "marker": {
             "colorbar": {
              "outlinewidth": 0,
              "ticks": ""
             }
            },
            "type": "scatterternary"
           }
          ],
          "surface": [
           {
            "colorbar": {
             "outlinewidth": 0,
             "ticks": ""
            },
            "colorscale": [
             [
              0,
              "#0d0887"
             ],
             [
              0.1111111111111111,
              "#46039f"
             ],
             [
              0.2222222222222222,
              "#7201a8"
             ],
             [
              0.3333333333333333,
              "#9c179e"
             ],
             [
              0.4444444444444444,
              "#bd3786"
             ],
             [
              0.5555555555555556,
              "#d8576b"
             ],
             [
              0.6666666666666666,
              "#ed7953"
             ],
             [
              0.7777777777777778,
              "#fb9f3a"
             ],
             [
              0.8888888888888888,
              "#fdca26"
             ],
             [
              1,
              "#f0f921"
             ]
            ],
            "type": "surface"
           }
          ],
          "table": [
           {
            "cells": {
             "fill": {
              "color": "#EBF0F8"
             },
             "line": {
              "color": "white"
             }
            },
            "header": {
             "fill": {
              "color": "#C8D4E3"
             },
             "line": {
              "color": "white"
             }
            },
            "type": "table"
           }
          ]
         },
         "layout": {
          "annotationdefaults": {
           "arrowcolor": "#2a3f5f",
           "arrowhead": 0,
           "arrowwidth": 1
          },
          "autotypenumbers": "strict",
          "coloraxis": {
           "colorbar": {
            "outlinewidth": 0,
            "ticks": ""
           }
          },
          "colorscale": {
           "diverging": [
            [
             0,
             "#8e0152"
            ],
            [
             0.1,
             "#c51b7d"
            ],
            [
             0.2,
             "#de77ae"
            ],
            [
             0.3,
             "#f1b6da"
            ],
            [
             0.4,
             "#fde0ef"
            ],
            [
             0.5,
             "#f7f7f7"
            ],
            [
             0.6,
             "#e6f5d0"
            ],
            [
             0.7,
             "#b8e186"
            ],
            [
             0.8,
             "#7fbc41"
            ],
            [
             0.9,
             "#4d9221"
            ],
            [
             1,
             "#276419"
            ]
           ],
           "sequential": [
            [
             0,
             "#0d0887"
            ],
            [
             0.1111111111111111,
             "#46039f"
            ],
            [
             0.2222222222222222,
             "#7201a8"
            ],
            [
             0.3333333333333333,
             "#9c179e"
            ],
            [
             0.4444444444444444,
             "#bd3786"
            ],
            [
             0.5555555555555556,
             "#d8576b"
            ],
            [
             0.6666666666666666,
             "#ed7953"
            ],
            [
             0.7777777777777778,
             "#fb9f3a"
            ],
            [
             0.8888888888888888,
             "#fdca26"
            ],
            [
             1,
             "#f0f921"
            ]
           ],
           "sequentialminus": [
            [
             0,
             "#0d0887"
            ],
            [
             0.1111111111111111,
             "#46039f"
            ],
            [
             0.2222222222222222,
             "#7201a8"
            ],
            [
             0.3333333333333333,
             "#9c179e"
            ],
            [
             0.4444444444444444,
             "#bd3786"
            ],
            [
             0.5555555555555556,
             "#d8576b"
            ],
            [
             0.6666666666666666,
             "#ed7953"
            ],
            [
             0.7777777777777778,
             "#fb9f3a"
            ],
            [
             0.8888888888888888,
             "#fdca26"
            ],
            [
             1,
             "#f0f921"
            ]
           ]
          },
          "colorway": [
           "#636efa",
           "#EF553B",
           "#00cc96",
           "#ab63fa",
           "#FFA15A",
           "#19d3f3",
           "#FF6692",
           "#B6E880",
           "#FF97FF",
           "#FECB52"
          ],
          "font": {
           "color": "#2a3f5f"
          },
          "geo": {
           "bgcolor": "white",
           "lakecolor": "white",
           "landcolor": "#E5ECF6",
           "showlakes": true,
           "showland": true,
           "subunitcolor": "white"
          },
          "hoverlabel": {
           "align": "left"
          },
          "hovermode": "closest",
          "mapbox": {
           "style": "light"
          },
          "paper_bgcolor": "white",
          "plot_bgcolor": "#E5ECF6",
          "polar": {
           "angularaxis": {
            "gridcolor": "white",
            "linecolor": "white",
            "ticks": ""
           },
           "bgcolor": "#E5ECF6",
           "radialaxis": {
            "gridcolor": "white",
            "linecolor": "white",
            "ticks": ""
           }
          },
          "scene": {
           "xaxis": {
            "backgroundcolor": "#E5ECF6",
            "gridcolor": "white",
            "gridwidth": 2,
            "linecolor": "white",
            "showbackground": true,
            "ticks": "",
            "zerolinecolor": "white"
           },
           "yaxis": {
            "backgroundcolor": "#E5ECF6",
            "gridcolor": "white",
            "gridwidth": 2,
            "linecolor": "white",
            "showbackground": true,
            "ticks": "",
            "zerolinecolor": "white"
           },
           "zaxis": {
            "backgroundcolor": "#E5ECF6",
            "gridcolor": "white",
            "gridwidth": 2,
            "linecolor": "white",
            "showbackground": true,
            "ticks": "",
            "zerolinecolor": "white"
           }
          },
          "shapedefaults": {
           "line": {
            "color": "#2a3f5f"
           }
          },
          "ternary": {
           "aaxis": {
            "gridcolor": "white",
            "linecolor": "white",
            "ticks": ""
           },
           "baxis": {
            "gridcolor": "white",
            "linecolor": "white",
            "ticks": ""
           },
           "bgcolor": "#E5ECF6",
           "caxis": {
            "gridcolor": "white",
            "linecolor": "white",
            "ticks": ""
           }
          },
          "title": {
           "x": 0.05
          },
          "xaxis": {
           "automargin": true,
           "gridcolor": "white",
           "linecolor": "white",
           "ticks": "",
           "title": {
            "standoff": 15
           },
           "zerolinecolor": "white",
           "zerolinewidth": 2
          },
          "yaxis": {
           "automargin": true,
           "gridcolor": "white",
           "linecolor": "white",
           "ticks": "",
           "title": {
            "standoff": 15
           },
           "zerolinecolor": "white",
           "zerolinewidth": 2
          }
         }
        },
        "title": {
         "text": "Q-Q Plot of Residuals"
        },
        "xaxis": {
         "anchor": "y",
         "domain": [
          0,
          1
         ],
         "title": {
          "text": "Theoretical Quantiles"
         }
        },
        "yaxis": {
         "anchor": "x",
         "domain": [
          0,
          1
         ],
         "title": {
          "text": "Sample Quantiles"
         }
        }
       }
      }
     },
     "metadata": {},
     "output_type": "display_data"
    },
    {
     "data": {
      "application/vnd.plotly.v1+json": {
       "config": {
        "plotlyServerURL": "https://plot.ly"
       },
       "data": [
        {
         "hovertemplate": "Actual Values=%{x}<br>Predicted Values=%{y}<extra></extra>",
         "legendgroup": "",
         "marker": {
          "color": "#636efa",
          "symbol": "circle"
         },
         "mode": "markers",
         "name": "",
         "orientation": "v",
         "showlegend": false,
         "type": "scatter",
         "x": [
          3.62,
          3.01,
          3.71,
          2.38,
          3.19,
          3.17,
          3.41,
          3.08,
          3.59,
          3.52,
          2.25,
          3.6,
          3,
          2.34,
          3.2,
          3.47,
          3.17,
          3.76,
          3.19,
          2.4,
          2.08
         ],
         "xaxis": "x",
         "y": [
          3.5201170326431623,
          3.147664419312241,
          3.8597602595726332,
          2.6911056516225766,
          3.0595913007528535,
          3.1983911060765022,
          3.339671231539582,
          2.9569133014792808,
          3.5603670014739364,
          3.6399216473583453,
          2.350131318373737,
          3.689334161733863,
          2.883968505262685,
          2.461199532609913,
          3.132129598550257,
          3.281142787104169,
          3.020403722185518,
          3.7926099409799976,
          3.18453635781955,
          2.680416189160325,
          2.4153115776879606
         ],
         "yaxis": "y"
        },
        {
         "line": {
          "color": "red",
          "dash": "dash"
         },
         "mode": "lines",
         "type": "scatter",
         "x": [
          3.62,
          3.01,
          3.71,
          2.38,
          3.19,
          3.17,
          3.41,
          3.08,
          3.59,
          3.52,
          2.25,
          3.6,
          3,
          2.34,
          3.2,
          3.47,
          3.17,
          3.76,
          3.19,
          2.4,
          2.08
         ],
         "y": [
          3.62,
          3.01,
          3.71,
          2.38,
          3.19,
          3.17,
          3.41,
          3.08,
          3.59,
          3.52,
          2.25,
          3.6,
          3,
          2.34,
          3.2,
          3.47,
          3.17,
          3.76,
          3.19,
          2.4,
          2.08
         ]
        }
       ],
       "layout": {
        "legend": {
         "tracegroupgap": 0
        },
        "template": {
         "data": {
          "bar": [
           {
            "error_x": {
             "color": "#2a3f5f"
            },
            "error_y": {
             "color": "#2a3f5f"
            },
            "marker": {
             "line": {
              "color": "#E5ECF6",
              "width": 0.5
             },
             "pattern": {
              "fillmode": "overlay",
              "size": 10,
              "solidity": 0.2
             }
            },
            "type": "bar"
           }
          ],
          "barpolar": [
           {
            "marker": {
             "line": {
              "color": "#E5ECF6",
              "width": 0.5
             },
             "pattern": {
              "fillmode": "overlay",
              "size": 10,
              "solidity": 0.2
             }
            },
            "type": "barpolar"
           }
          ],
          "carpet": [
           {
            "aaxis": {
             "endlinecolor": "#2a3f5f",
             "gridcolor": "white",
             "linecolor": "white",
             "minorgridcolor": "white",
             "startlinecolor": "#2a3f5f"
            },
            "baxis": {
             "endlinecolor": "#2a3f5f",
             "gridcolor": "white",
             "linecolor": "white",
             "minorgridcolor": "white",
             "startlinecolor": "#2a3f5f"
            },
            "type": "carpet"
           }
          ],
          "choropleth": [
           {
            "colorbar": {
             "outlinewidth": 0,
             "ticks": ""
            },
            "type": "choropleth"
           }
          ],
          "contour": [
           {
            "colorbar": {
             "outlinewidth": 0,
             "ticks": ""
            },
            "colorscale": [
             [
              0,
              "#0d0887"
             ],
             [
              0.1111111111111111,
              "#46039f"
             ],
             [
              0.2222222222222222,
              "#7201a8"
             ],
             [
              0.3333333333333333,
              "#9c179e"
             ],
             [
              0.4444444444444444,
              "#bd3786"
             ],
             [
              0.5555555555555556,
              "#d8576b"
             ],
             [
              0.6666666666666666,
              "#ed7953"
             ],
             [
              0.7777777777777778,
              "#fb9f3a"
             ],
             [
              0.8888888888888888,
              "#fdca26"
             ],
             [
              1,
              "#f0f921"
             ]
            ],
            "type": "contour"
           }
          ],
          "contourcarpet": [
           {
            "colorbar": {
             "outlinewidth": 0,
             "ticks": ""
            },
            "type": "contourcarpet"
           }
          ],
          "heatmap": [
           {
            "colorbar": {
             "outlinewidth": 0,
             "ticks": ""
            },
            "colorscale": [
             [
              0,
              "#0d0887"
             ],
             [
              0.1111111111111111,
              "#46039f"
             ],
             [
              0.2222222222222222,
              "#7201a8"
             ],
             [
              0.3333333333333333,
              "#9c179e"
             ],
             [
              0.4444444444444444,
              "#bd3786"
             ],
             [
              0.5555555555555556,
              "#d8576b"
             ],
             [
              0.6666666666666666,
              "#ed7953"
             ],
             [
              0.7777777777777778,
              "#fb9f3a"
             ],
             [
              0.8888888888888888,
              "#fdca26"
             ],
             [
              1,
              "#f0f921"
             ]
            ],
            "type": "heatmap"
           }
          ],
          "heatmapgl": [
           {
            "colorbar": {
             "outlinewidth": 0,
             "ticks": ""
            },
            "colorscale": [
             [
              0,
              "#0d0887"
             ],
             [
              0.1111111111111111,
              "#46039f"
             ],
             [
              0.2222222222222222,
              "#7201a8"
             ],
             [
              0.3333333333333333,
              "#9c179e"
             ],
             [
              0.4444444444444444,
              "#bd3786"
             ],
             [
              0.5555555555555556,
              "#d8576b"
             ],
             [
              0.6666666666666666,
              "#ed7953"
             ],
             [
              0.7777777777777778,
              "#fb9f3a"
             ],
             [
              0.8888888888888888,
              "#fdca26"
             ],
             [
              1,
              "#f0f921"
             ]
            ],
            "type": "heatmapgl"
           }
          ],
          "histogram": [
           {
            "marker": {
             "pattern": {
              "fillmode": "overlay",
              "size": 10,
              "solidity": 0.2
             }
            },
            "type": "histogram"
           }
          ],
          "histogram2d": [
           {
            "colorbar": {
             "outlinewidth": 0,
             "ticks": ""
            },
            "colorscale": [
             [
              0,
              "#0d0887"
             ],
             [
              0.1111111111111111,
              "#46039f"
             ],
             [
              0.2222222222222222,
              "#7201a8"
             ],
             [
              0.3333333333333333,
              "#9c179e"
             ],
             [
              0.4444444444444444,
              "#bd3786"
             ],
             [
              0.5555555555555556,
              "#d8576b"
             ],
             [
              0.6666666666666666,
              "#ed7953"
             ],
             [
              0.7777777777777778,
              "#fb9f3a"
             ],
             [
              0.8888888888888888,
              "#fdca26"
             ],
             [
              1,
              "#f0f921"
             ]
            ],
            "type": "histogram2d"
           }
          ],
          "histogram2dcontour": [
           {
            "colorbar": {
             "outlinewidth": 0,
             "ticks": ""
            },
            "colorscale": [
             [
              0,
              "#0d0887"
             ],
             [
              0.1111111111111111,
              "#46039f"
             ],
             [
              0.2222222222222222,
              "#7201a8"
             ],
             [
              0.3333333333333333,
              "#9c179e"
             ],
             [
              0.4444444444444444,
              "#bd3786"
             ],
             [
              0.5555555555555556,
              "#d8576b"
             ],
             [
              0.6666666666666666,
              "#ed7953"
             ],
             [
              0.7777777777777778,
              "#fb9f3a"
             ],
             [
              0.8888888888888888,
              "#fdca26"
             ],
             [
              1,
              "#f0f921"
             ]
            ],
            "type": "histogram2dcontour"
           }
          ],
          "mesh3d": [
           {
            "colorbar": {
             "outlinewidth": 0,
             "ticks": ""
            },
            "type": "mesh3d"
           }
          ],
          "parcoords": [
           {
            "line": {
             "colorbar": {
              "outlinewidth": 0,
              "ticks": ""
             }
            },
            "type": "parcoords"
           }
          ],
          "pie": [
           {
            "automargin": true,
            "type": "pie"
           }
          ],
          "scatter": [
           {
            "fillpattern": {
             "fillmode": "overlay",
             "size": 10,
             "solidity": 0.2
            },
            "type": "scatter"
           }
          ],
          "scatter3d": [
           {
            "line": {
             "colorbar": {
              "outlinewidth": 0,
              "ticks": ""
             }
            },
            "marker": {
             "colorbar": {
              "outlinewidth": 0,
              "ticks": ""
             }
            },
            "type": "scatter3d"
           }
          ],
          "scattercarpet": [
           {
            "marker": {
             "colorbar": {
              "outlinewidth": 0,
              "ticks": ""
             }
            },
            "type": "scattercarpet"
           }
          ],
          "scattergeo": [
           {
            "marker": {
             "colorbar": {
              "outlinewidth": 0,
              "ticks": ""
             }
            },
            "type": "scattergeo"
           }
          ],
          "scattergl": [
           {
            "marker": {
             "colorbar": {
              "outlinewidth": 0,
              "ticks": ""
             }
            },
            "type": "scattergl"
           }
          ],
          "scattermapbox": [
           {
            "marker": {
             "colorbar": {
              "outlinewidth": 0,
              "ticks": ""
             }
            },
            "type": "scattermapbox"
           }
          ],
          "scatterpolar": [
           {
            "marker": {
             "colorbar": {
              "outlinewidth": 0,
              "ticks": ""
             }
            },
            "type": "scatterpolar"
           }
          ],
          "scatterpolargl": [
           {
            "marker": {
             "colorbar": {
              "outlinewidth": 0,
              "ticks": ""
             }
            },
            "type": "scatterpolargl"
           }
          ],
          "scatterternary": [
           {
            "marker": {
             "colorbar": {
              "outlinewidth": 0,
              "ticks": ""
             }
            },
            "type": "scatterternary"
           }
          ],
          "surface": [
           {
            "colorbar": {
             "outlinewidth": 0,
             "ticks": ""
            },
            "colorscale": [
             [
              0,
              "#0d0887"
             ],
             [
              0.1111111111111111,
              "#46039f"
             ],
             [
              0.2222222222222222,
              "#7201a8"
             ],
             [
              0.3333333333333333,
              "#9c179e"
             ],
             [
              0.4444444444444444,
              "#bd3786"
             ],
             [
              0.5555555555555556,
              "#d8576b"
             ],
             [
              0.6666666666666666,
              "#ed7953"
             ],
             [
              0.7777777777777778,
              "#fb9f3a"
             ],
             [
              0.8888888888888888,
              "#fdca26"
             ],
             [
              1,
              "#f0f921"
             ]
            ],
            "type": "surface"
           }
          ],
          "table": [
           {
            "cells": {
             "fill": {
              "color": "#EBF0F8"
             },
             "line": {
              "color": "white"
             }
            },
            "header": {
             "fill": {
              "color": "#C8D4E3"
             },
             "line": {
              "color": "white"
             }
            },
            "type": "table"
           }
          ]
         },
         "layout": {
          "annotationdefaults": {
           "arrowcolor": "#2a3f5f",
           "arrowhead": 0,
           "arrowwidth": 1
          },
          "autotypenumbers": "strict",
          "coloraxis": {
           "colorbar": {
            "outlinewidth": 0,
            "ticks": ""
           }
          },
          "colorscale": {
           "diverging": [
            [
             0,
             "#8e0152"
            ],
            [
             0.1,
             "#c51b7d"
            ],
            [
             0.2,
             "#de77ae"
            ],
            [
             0.3,
             "#f1b6da"
            ],
            [
             0.4,
             "#fde0ef"
            ],
            [
             0.5,
             "#f7f7f7"
            ],
            [
             0.6,
             "#e6f5d0"
            ],
            [
             0.7,
             "#b8e186"
            ],
            [
             0.8,
             "#7fbc41"
            ],
            [
             0.9,
             "#4d9221"
            ],
            [
             1,
             "#276419"
            ]
           ],
           "sequential": [
            [
             0,
             "#0d0887"
            ],
            [
             0.1111111111111111,
             "#46039f"
            ],
            [
             0.2222222222222222,
             "#7201a8"
            ],
            [
             0.3333333333333333,
             "#9c179e"
            ],
            [
             0.4444444444444444,
             "#bd3786"
            ],
            [
             0.5555555555555556,
             "#d8576b"
            ],
            [
             0.6666666666666666,
             "#ed7953"
            ],
            [
             0.7777777777777778,
             "#fb9f3a"
            ],
            [
             0.8888888888888888,
             "#fdca26"
            ],
            [
             1,
             "#f0f921"
            ]
           ],
           "sequentialminus": [
            [
             0,
             "#0d0887"
            ],
            [
             0.1111111111111111,
             "#46039f"
            ],
            [
             0.2222222222222222,
             "#7201a8"
            ],
            [
             0.3333333333333333,
             "#9c179e"
            ],
            [
             0.4444444444444444,
             "#bd3786"
            ],
            [
             0.5555555555555556,
             "#d8576b"
            ],
            [
             0.6666666666666666,
             "#ed7953"
            ],
            [
             0.7777777777777778,
             "#fb9f3a"
            ],
            [
             0.8888888888888888,
             "#fdca26"
            ],
            [
             1,
             "#f0f921"
            ]
           ]
          },
          "colorway": [
           "#636efa",
           "#EF553B",
           "#00cc96",
           "#ab63fa",
           "#FFA15A",
           "#19d3f3",
           "#FF6692",
           "#B6E880",
           "#FF97FF",
           "#FECB52"
          ],
          "font": {
           "color": "#2a3f5f"
          },
          "geo": {
           "bgcolor": "white",
           "lakecolor": "white",
           "landcolor": "#E5ECF6",
           "showlakes": true,
           "showland": true,
           "subunitcolor": "white"
          },
          "hoverlabel": {
           "align": "left"
          },
          "hovermode": "closest",
          "mapbox": {
           "style": "light"
          },
          "paper_bgcolor": "white",
          "plot_bgcolor": "#E5ECF6",
          "polar": {
           "angularaxis": {
            "gridcolor": "white",
            "linecolor": "white",
            "ticks": ""
           },
           "bgcolor": "#E5ECF6",
           "radialaxis": {
            "gridcolor": "white",
            "linecolor": "white",
            "ticks": ""
           }
          },
          "scene": {
           "xaxis": {
            "backgroundcolor": "#E5ECF6",
            "gridcolor": "white",
            "gridwidth": 2,
            "linecolor": "white",
            "showbackground": true,
            "ticks": "",
            "zerolinecolor": "white"
           },
           "yaxis": {
            "backgroundcolor": "#E5ECF6",
            "gridcolor": "white",
            "gridwidth": 2,
            "linecolor": "white",
            "showbackground": true,
            "ticks": "",
            "zerolinecolor": "white"
           },
           "zaxis": {
            "backgroundcolor": "#E5ECF6",
            "gridcolor": "white",
            "gridwidth": 2,
            "linecolor": "white",
            "showbackground": true,
            "ticks": "",
            "zerolinecolor": "white"
           }
          },
          "shapedefaults": {
           "line": {
            "color": "#2a3f5f"
           }
          },
          "ternary": {
           "aaxis": {
            "gridcolor": "white",
            "linecolor": "white",
            "ticks": ""
           },
           "baxis": {
            "gridcolor": "white",
            "linecolor": "white",
            "ticks": ""
           },
           "bgcolor": "#E5ECF6",
           "caxis": {
            "gridcolor": "white",
            "linecolor": "white",
            "ticks": ""
           }
          },
          "title": {
           "x": 0.05
          },
          "xaxis": {
           "automargin": true,
           "gridcolor": "white",
           "linecolor": "white",
           "ticks": "",
           "title": {
            "standoff": 15
           },
           "zerolinecolor": "white",
           "zerolinewidth": 2
          },
          "yaxis": {
           "automargin": true,
           "gridcolor": "white",
           "linecolor": "white",
           "ticks": "",
           "title": {
            "standoff": 15
           },
           "zerolinecolor": "white",
           "zerolinewidth": 2
          }
         }
        },
        "title": {
         "text": "Actual vs Predicted Values"
        },
        "xaxis": {
         "anchor": "y",
         "domain": [
          0,
          1
         ],
         "title": {
          "text": "Actual Values"
         }
        },
        "yaxis": {
         "anchor": "x",
         "domain": [
          0,
          1
         ],
         "title": {
          "text": "Predicted Values"
         }
        }
       }
      }
     },
     "metadata": {},
     "output_type": "display_data"
    },
    {
     "data": {
      "application/vnd.plotly.v1+json": {
       "config": {
        "plotlyServerURL": "https://plot.ly"
       },
       "data": [
        {
         "alignmentgroup": "True",
         "hovertemplate": "x=%{x}<br>y=%{y}<extra></extra>",
         "legendgroup": "",
         "marker": {
          "color": "#636efa",
          "pattern": {
           "shape": ""
          }
         },
         "name": "",
         "offsetgroup": "",
         "orientation": "h",
         "showlegend": false,
         "textposition": "auto",
         "texttemplate": "%{x}",
         "type": "bar",
         "x": [
          0.035,
          0.051,
          0.106,
          0.699
         ],
         "xaxis": "x",
         "y": [
          "math_SAT",
          "verb_SAT",
          "high_GPA",
          "comp_GPA"
         ],
         "yaxis": "y"
        }
       ],
       "layout": {
        "barmode": "relative",
        "legend": {
         "tracegroupgap": 0
        },
        "template": {
         "data": {
          "bar": [
           {
            "error_x": {
             "color": "#2a3f5f"
            },
            "error_y": {
             "color": "#2a3f5f"
            },
            "marker": {
             "line": {
              "color": "#E5ECF6",
              "width": 0.5
             },
             "pattern": {
              "fillmode": "overlay",
              "size": 10,
              "solidity": 0.2
             }
            },
            "type": "bar"
           }
          ],
          "barpolar": [
           {
            "marker": {
             "line": {
              "color": "#E5ECF6",
              "width": 0.5
             },
             "pattern": {
              "fillmode": "overlay",
              "size": 10,
              "solidity": 0.2
             }
            },
            "type": "barpolar"
           }
          ],
          "carpet": [
           {
            "aaxis": {
             "endlinecolor": "#2a3f5f",
             "gridcolor": "white",
             "linecolor": "white",
             "minorgridcolor": "white",
             "startlinecolor": "#2a3f5f"
            },
            "baxis": {
             "endlinecolor": "#2a3f5f",
             "gridcolor": "white",
             "linecolor": "white",
             "minorgridcolor": "white",
             "startlinecolor": "#2a3f5f"
            },
            "type": "carpet"
           }
          ],
          "choropleth": [
           {
            "colorbar": {
             "outlinewidth": 0,
             "ticks": ""
            },
            "type": "choropleth"
           }
          ],
          "contour": [
           {
            "colorbar": {
             "outlinewidth": 0,
             "ticks": ""
            },
            "colorscale": [
             [
              0,
              "#0d0887"
             ],
             [
              0.1111111111111111,
              "#46039f"
             ],
             [
              0.2222222222222222,
              "#7201a8"
             ],
             [
              0.3333333333333333,
              "#9c179e"
             ],
             [
              0.4444444444444444,
              "#bd3786"
             ],
             [
              0.5555555555555556,
              "#d8576b"
             ],
             [
              0.6666666666666666,
              "#ed7953"
             ],
             [
              0.7777777777777778,
              "#fb9f3a"
             ],
             [
              0.8888888888888888,
              "#fdca26"
             ],
             [
              1,
              "#f0f921"
             ]
            ],
            "type": "contour"
           }
          ],
          "contourcarpet": [
           {
            "colorbar": {
             "outlinewidth": 0,
             "ticks": ""
            },
            "type": "contourcarpet"
           }
          ],
          "heatmap": [
           {
            "colorbar": {
             "outlinewidth": 0,
             "ticks": ""
            },
            "colorscale": [
             [
              0,
              "#0d0887"
             ],
             [
              0.1111111111111111,
              "#46039f"
             ],
             [
              0.2222222222222222,
              "#7201a8"
             ],
             [
              0.3333333333333333,
              "#9c179e"
             ],
             [
              0.4444444444444444,
              "#bd3786"
             ],
             [
              0.5555555555555556,
              "#d8576b"
             ],
             [
              0.6666666666666666,
              "#ed7953"
             ],
             [
              0.7777777777777778,
              "#fb9f3a"
             ],
             [
              0.8888888888888888,
              "#fdca26"
             ],
             [
              1,
              "#f0f921"
             ]
            ],
            "type": "heatmap"
           }
          ],
          "heatmapgl": [
           {
            "colorbar": {
             "outlinewidth": 0,
             "ticks": ""
            },
            "colorscale": [
             [
              0,
              "#0d0887"
             ],
             [
              0.1111111111111111,
              "#46039f"
             ],
             [
              0.2222222222222222,
              "#7201a8"
             ],
             [
              0.3333333333333333,
              "#9c179e"
             ],
             [
              0.4444444444444444,
              "#bd3786"
             ],
             [
              0.5555555555555556,
              "#d8576b"
             ],
             [
              0.6666666666666666,
              "#ed7953"
             ],
             [
              0.7777777777777778,
              "#fb9f3a"
             ],
             [
              0.8888888888888888,
              "#fdca26"
             ],
             [
              1,
              "#f0f921"
             ]
            ],
            "type": "heatmapgl"
           }
          ],
          "histogram": [
           {
            "marker": {
             "pattern": {
              "fillmode": "overlay",
              "size": 10,
              "solidity": 0.2
             }
            },
            "type": "histogram"
           }
          ],
          "histogram2d": [
           {
            "colorbar": {
             "outlinewidth": 0,
             "ticks": ""
            },
            "colorscale": [
             [
              0,
              "#0d0887"
             ],
             [
              0.1111111111111111,
              "#46039f"
             ],
             [
              0.2222222222222222,
              "#7201a8"
             ],
             [
              0.3333333333333333,
              "#9c179e"
             ],
             [
              0.4444444444444444,
              "#bd3786"
             ],
             [
              0.5555555555555556,
              "#d8576b"
             ],
             [
              0.6666666666666666,
              "#ed7953"
             ],
             [
              0.7777777777777778,
              "#fb9f3a"
             ],
             [
              0.8888888888888888,
              "#fdca26"
             ],
             [
              1,
              "#f0f921"
             ]
            ],
            "type": "histogram2d"
           }
          ],
          "histogram2dcontour": [
           {
            "colorbar": {
             "outlinewidth": 0,
             "ticks": ""
            },
            "colorscale": [
             [
              0,
              "#0d0887"
             ],
             [
              0.1111111111111111,
              "#46039f"
             ],
             [
              0.2222222222222222,
              "#7201a8"
             ],
             [
              0.3333333333333333,
              "#9c179e"
             ],
             [
              0.4444444444444444,
              "#bd3786"
             ],
             [
              0.5555555555555556,
              "#d8576b"
             ],
             [
              0.6666666666666666,
              "#ed7953"
             ],
             [
              0.7777777777777778,
              "#fb9f3a"
             ],
             [
              0.8888888888888888,
              "#fdca26"
             ],
             [
              1,
              "#f0f921"
             ]
            ],
            "type": "histogram2dcontour"
           }
          ],
          "mesh3d": [
           {
            "colorbar": {
             "outlinewidth": 0,
             "ticks": ""
            },
            "type": "mesh3d"
           }
          ],
          "parcoords": [
           {
            "line": {
             "colorbar": {
              "outlinewidth": 0,
              "ticks": ""
             }
            },
            "type": "parcoords"
           }
          ],
          "pie": [
           {
            "automargin": true,
            "type": "pie"
           }
          ],
          "scatter": [
           {
            "fillpattern": {
             "fillmode": "overlay",
             "size": 10,
             "solidity": 0.2
            },
            "type": "scatter"
           }
          ],
          "scatter3d": [
           {
            "line": {
             "colorbar": {
              "outlinewidth": 0,
              "ticks": ""
             }
            },
            "marker": {
             "colorbar": {
              "outlinewidth": 0,
              "ticks": ""
             }
            },
            "type": "scatter3d"
           }
          ],
          "scattercarpet": [
           {
            "marker": {
             "colorbar": {
              "outlinewidth": 0,
              "ticks": ""
             }
            },
            "type": "scattercarpet"
           }
          ],
          "scattergeo": [
           {
            "marker": {
             "colorbar": {
              "outlinewidth": 0,
              "ticks": ""
             }
            },
            "type": "scattergeo"
           }
          ],
          "scattergl": [
           {
            "marker": {
             "colorbar": {
              "outlinewidth": 0,
              "ticks": ""
             }
            },
            "type": "scattergl"
           }
          ],
          "scattermapbox": [
           {
            "marker": {
             "colorbar": {
              "outlinewidth": 0,
              "ticks": ""
             }
            },
            "type": "scattermapbox"
           }
          ],
          "scatterpolar": [
           {
            "marker": {
             "colorbar": {
              "outlinewidth": 0,
              "ticks": ""
             }
            },
            "type": "scatterpolar"
           }
          ],
          "scatterpolargl": [
           {
            "marker": {
             "colorbar": {
              "outlinewidth": 0,
              "ticks": ""
             }
            },
            "type": "scatterpolargl"
           }
          ],
          "scatterternary": [
           {
            "marker": {
             "colorbar": {
              "outlinewidth": 0,
              "ticks": ""
             }
            },
            "type": "scatterternary"
           }
          ],
          "surface": [
           {
            "colorbar": {
             "outlinewidth": 0,
             "ticks": ""
            },
            "colorscale": [
             [
              0,
              "#0d0887"
             ],
             [
              0.1111111111111111,
              "#46039f"
             ],
             [
              0.2222222222222222,
              "#7201a8"
             ],
             [
              0.3333333333333333,
              "#9c179e"
             ],
             [
              0.4444444444444444,
              "#bd3786"
             ],
             [
              0.5555555555555556,
              "#d8576b"
             ],
             [
              0.6666666666666666,
              "#ed7953"
             ],
             [
              0.7777777777777778,
              "#fb9f3a"
             ],
             [
              0.8888888888888888,
              "#fdca26"
             ],
             [
              1,
              "#f0f921"
             ]
            ],
            "type": "surface"
           }
          ],
          "table": [
           {
            "cells": {
             "fill": {
              "color": "#EBF0F8"
             },
             "line": {
              "color": "white"
             }
            },
            "header": {
             "fill": {
              "color": "#C8D4E3"
             },
             "line": {
              "color": "white"
             }
            },
            "type": "table"
           }
          ]
         },
         "layout": {
          "annotationdefaults": {
           "arrowcolor": "#2a3f5f",
           "arrowhead": 0,
           "arrowwidth": 1
          },
          "autotypenumbers": "strict",
          "coloraxis": {
           "colorbar": {
            "outlinewidth": 0,
            "ticks": ""
           }
          },
          "colorscale": {
           "diverging": [
            [
             0,
             "#8e0152"
            ],
            [
             0.1,
             "#c51b7d"
            ],
            [
             0.2,
             "#de77ae"
            ],
            [
             0.3,
             "#f1b6da"
            ],
            [
             0.4,
             "#fde0ef"
            ],
            [
             0.5,
             "#f7f7f7"
            ],
            [
             0.6,
             "#e6f5d0"
            ],
            [
             0.7,
             "#b8e186"
            ],
            [
             0.8,
             "#7fbc41"
            ],
            [
             0.9,
             "#4d9221"
            ],
            [
             1,
             "#276419"
            ]
           ],
           "sequential": [
            [
             0,
             "#0d0887"
            ],
            [
             0.1111111111111111,
             "#46039f"
            ],
            [
             0.2222222222222222,
             "#7201a8"
            ],
            [
             0.3333333333333333,
             "#9c179e"
            ],
            [
             0.4444444444444444,
             "#bd3786"
            ],
            [
             0.5555555555555556,
             "#d8576b"
            ],
            [
             0.6666666666666666,
             "#ed7953"
            ],
            [
             0.7777777777777778,
             "#fb9f3a"
            ],
            [
             0.8888888888888888,
             "#fdca26"
            ],
            [
             1,
             "#f0f921"
            ]
           ],
           "sequentialminus": [
            [
             0,
             "#0d0887"
            ],
            [
             0.1111111111111111,
             "#46039f"
            ],
            [
             0.2222222222222222,
             "#7201a8"
            ],
            [
             0.3333333333333333,
             "#9c179e"
            ],
            [
             0.4444444444444444,
             "#bd3786"
            ],
            [
             0.5555555555555556,
             "#d8576b"
            ],
            [
             0.6666666666666666,
             "#ed7953"
            ],
            [
             0.7777777777777778,
             "#fb9f3a"
            ],
            [
             0.8888888888888888,
             "#fdca26"
            ],
            [
             1,
             "#f0f921"
            ]
           ]
          },
          "colorway": [
           "#636efa",
           "#EF553B",
           "#00cc96",
           "#ab63fa",
           "#FFA15A",
           "#19d3f3",
           "#FF6692",
           "#B6E880",
           "#FF97FF",
           "#FECB52"
          ],
          "font": {
           "color": "#2a3f5f"
          },
          "geo": {
           "bgcolor": "white",
           "lakecolor": "white",
           "landcolor": "#E5ECF6",
           "showlakes": true,
           "showland": true,
           "subunitcolor": "white"
          },
          "hoverlabel": {
           "align": "left"
          },
          "hovermode": "closest",
          "mapbox": {
           "style": "light"
          },
          "paper_bgcolor": "white",
          "plot_bgcolor": "#E5ECF6",
          "polar": {
           "angularaxis": {
            "gridcolor": "white",
            "linecolor": "white",
            "ticks": ""
           },
           "bgcolor": "#E5ECF6",
           "radialaxis": {
            "gridcolor": "white",
            "linecolor": "white",
            "ticks": ""
           }
          },
          "scene": {
           "xaxis": {
            "backgroundcolor": "#E5ECF6",
            "gridcolor": "white",
            "gridwidth": 2,
            "linecolor": "white",
            "showbackground": true,
            "ticks": "",
            "zerolinecolor": "white"
           },
           "yaxis": {
            "backgroundcolor": "#E5ECF6",
            "gridcolor": "white",
            "gridwidth": 2,
            "linecolor": "white",
            "showbackground": true,
            "ticks": "",
            "zerolinecolor": "white"
           },
           "zaxis": {
            "backgroundcolor": "#E5ECF6",
            "gridcolor": "white",
            "gridwidth": 2,
            "linecolor": "white",
            "showbackground": true,
            "ticks": "",
            "zerolinecolor": "white"
           }
          },
          "shapedefaults": {
           "line": {
            "color": "#2a3f5f"
           }
          },
          "ternary": {
           "aaxis": {
            "gridcolor": "white",
            "linecolor": "white",
            "ticks": ""
           },
           "baxis": {
            "gridcolor": "white",
            "linecolor": "white",
            "ticks": ""
           },
           "bgcolor": "#E5ECF6",
           "caxis": {
            "gridcolor": "white",
            "linecolor": "white",
            "ticks": ""
           }
          },
          "title": {
           "x": 0.05
          },
          "xaxis": {
           "automargin": true,
           "gridcolor": "white",
           "linecolor": "white",
           "ticks": "",
           "title": {
            "standoff": 15
           },
           "zerolinecolor": "white",
           "zerolinewidth": 2
          },
          "yaxis": {
           "automargin": true,
           "gridcolor": "white",
           "linecolor": "white",
           "ticks": "",
           "title": {
            "standoff": 15
           },
           "zerolinecolor": "white",
           "zerolinewidth": 2
          }
         }
        },
        "title": {
         "text": "Feature Importance (Linear Regression Coefficients)"
        },
        "xaxis": {
         "anchor": "y",
         "domain": [
          0,
          1
         ],
         "title": {
          "text": "x"
         }
        },
        "yaxis": {
         "anchor": "x",
         "domain": [
          0,
          1
         ],
         "title": {
          "text": "y"
         }
        }
       }
      }
     },
     "metadata": {},
     "output_type": "display_data"
    },
    {
     "name": "stdout",
     "output_type": "stream",
     "text": [
      "✅ All plots generated successfully!\n"
     ]
    }
   ],
   "source": [
    "model.plot()"
   ]
  },
  {
   "cell_type": "markdown",
   "metadata": {},
   "source": [
    "<div style=\"background-color: #c90016 ; color: #ffffff; width: 100%; height: 50px; text-align: center; font-weight: bold; line-height: 50px; margin: 10px 0; font-size: 24px;\">\n",
    "by Eng\\Abdelrhman Ezzat\n",
    "</div>"
   ]
  }
 ],
 "metadata": {
  "kernelspec": {
   "display_name": "base",
   "language": "python",
   "name": "python3"
  },
  "language_info": {
   "codemirror_mode": {
    "name": "ipython",
    "version": 3
   },
   "file_extension": ".py",
   "mimetype": "text/x-python",
   "name": "python",
   "nbconvert_exporter": "python",
   "pygments_lexer": "ipython3",
   "version": "3.12.3"
  }
 },
 "nbformat": 4,
 "nbformat_minor": 2
}
